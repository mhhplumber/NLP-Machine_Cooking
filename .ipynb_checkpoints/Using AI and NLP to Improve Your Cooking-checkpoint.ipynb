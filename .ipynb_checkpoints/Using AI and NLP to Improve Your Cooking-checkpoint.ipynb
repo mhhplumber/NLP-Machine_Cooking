{
 "cells": [
  {
   "cell_type": "markdown",
   "metadata": {},
   "source": [
    "# Using AI and NLP to Improve Your Cooking\n",
    "\n",
    "Michael Humkey, Conor Marsten"
   ]
  },
  {
   "cell_type": "code",
   "execution_count": 77,
   "metadata": {
    "collapsed": true
   },
   "outputs": [],
   "source": [
    "import urllib\n",
    "import urllib.request"
   ]
  },
  {
   "cell_type": "code",
   "execution_count": 78,
   "metadata": {
    "collapsed": true
   },
   "outputs": [],
   "source": [
    "url = \"http://food2fork.com/api/search?\"\n",
    "args = {'key' : 'd8b2df92a9cb994f2009b2be8410c1a3', 'q' : 'chicken parm', 'sort' : 'r'}\n",
    "data = urllib.parse.urlencode(args)\n",
    "req = urllib.request.Request(url+data, headers={'User-Agent': 'Mozilla/5.0'})\n",
    "response = urllib.request.urlopen(req).read()"
   ]
  },
  {
   "cell_type": "code",
   "execution_count": 79,
   "metadata": {
    "collapsed": true
   },
   "outputs": [],
   "source": [
    "import json"
   ]
  },
  {
   "cell_type": "code",
   "execution_count": 80,
   "metadata": {
    "collapsed": true
   },
   "outputs": [],
   "source": [
    "response = json.loads(response)\n",
    "recipes = response['recipes']"
   ]
  },
  {
   "cell_type": "code",
   "execution_count": 81,
   "metadata": {
    "collapsed": true
   },
   "outputs": [],
   "source": [
    "from bs4 import BeautifulSoup\n",
    "import requests"
   ]
  },
  {
   "cell_type": "code",
   "execution_count": 82,
   "metadata": {
    "collapsed": true
   },
   "outputs": [],
   "source": [
    "def getReviews(recipes, i=0):\n",
    "\n",
    "    recipe = recipes[i]\n",
    "    url = \"http://food2fork.com/api/get?\"\n",
    "    data = urllib.parse.urlencode({'key' : 'd8b2df92a9cb994f2009b2be8410c1a3', 'rId' : recipe['recipe_id']})\n",
    "    req = urllib.request.Request(url+data, headers={'User-Agent': 'Mozilla/5.0'})\n",
    "    recipe = json.loads(urllib.request.urlopen(req).read())['recipe']\n",
    "    bs =  BeautifulSoup(requests.get(recipe['source_url']).content, 'html.parser')\n",
    "    reviews = []\n",
    "\n",
    "    if (recipe['publisher'] == '101 Cookbooks'): #1\n",
    "        reviews = bs.find_all(attrs={'class': 'card-body'})\n",
    "\n",
    "    elif (recipe['publisher'] == 'BBC Good Food'):\n",
    "        reviews = bs.find_all(attrs={'class': 'field-item even'})\n",
    "\n",
    "    elif (recipe['publisher'] == 'Closet Cooking' \n",
    "           or recipe['publisher'] == 'Eats Well With Others' \n",
    "           or recipe['publisher'] == \"Lisa's Kitchen\"\n",
    "           or recipe['publisher'] == 'A Spicy Perspective'\n",
    "           or recipe['publisher'] == 'Naturally Ella'\n",
    "           or recipe['publisher'] == 'Pastry Affair'):\n",
    "        reviews = bs.find_all(attrs={'class': 'comment-body'})\n",
    "\n",
    "    elif (recipe['publisher'] == 'Food Republic'):\n",
    "        reviews = bs.find_all(attrs={'class': '_5mdd'}) #uses facebook comments plugin\n",
    "\n",
    "    elif (recipe['publisher'] == 'PBS Food'):\n",
    "        reviews = bs.find_all(attrs={'class': 'post-message'})\n",
    "\n",
    "    elif (recipe['publisher'] == 'Simply Recipes'\n",
    "          or recipe['publisher'] == 'Homesick Texan'\n",
    "          or recipe['publisher'] == 'Tasty Kitchen'):\n",
    "        reviews = bs.find_all(attrs={'class': 'comment-text'})\n",
    "\n",
    "    elif (recipe['publisher'] == 'Two Peas and Their Pod'\n",
    "          or recipe['publisher'] == 'Cookie and Kate'\n",
    "          or recipe['publisher'] == \"Elana's Pantry\"\n",
    "          or recipe['publisher'] == 'My Baking Addiction'\n",
    "          or recipe['publisher'] == 'Smitten Kitchen'\n",
    "          or recipe['publisher'] == 'Vintage Mixer'\n",
    "          or recipe['publisher'] == 'Cookin Canuck'\n",
    "          or recipe['publisher'] == 'Healthy Delicious'\n",
    "          or recipe['publisher'] == 'Steamy Kitchen'\n",
    "          or recipe['publisher'] == \"What's Gaby Cooking\"\n",
    "          or recipe['publisher'] == 'Bunky Cooks'\n",
    "          or recipe['publisher'] == 'Serious Eats'):\n",
    "        reviews = bs.find_all(attrs={'class': 'comment-content'})\n",
    "\n",
    "    elif (recipe['publisher'] == 'All Recipes'):\n",
    "        reviews = bs.find_all(itemprop=\"reviewBody\")\n",
    "\n",
    "    elif (recipe['publisher'] == 'Big Girls Small Kitchen'\n",
    "          or recipe['publisher'] =='Jamie Oliver'\n",
    "          or recipe['publisher'] == 'The Pioneer Woman'):\n",
    "        reviews = bs.find_all(attrs={'data-role': 'message'})\n",
    "\n",
    "    elif (recipe['publisher'] == 'Framed Cooks'\n",
    "          or recipe['publisher'] == 'Picky Palate'):\n",
    "        reviews = bs.find_all(attrs={'class': 'comment even thread-even depth-1'})\n",
    "\n",
    "    elif (recipe['publisher'] == 'Bon Appetit'):\n",
    "        reviews = bs.find_all(attrs={'class': 'review-body'})\n",
    "\n",
    "    elif (recipe['publisher'] == 'Epicurious'):\n",
    "        reviews = bs.find_all(attrs={'class': 'review-text'})\n",
    "\n",
    "    elif (recipe['publisher'] == 'Cookstr'):\n",
    "        reviews = bs.find_all(attrs={'class': 'commentText'})\n",
    "\n",
    "    elif (recipe['publisher'] == 'Panini Happy'):\n",
    "        #careful, sloppy html\n",
    "        reviews = bs.find_all(attrs={'class': 'format_text'})\n",
    "\n",
    "    elif (recipe['publisher'] == 'Real Simple'):\n",
    "        reviews = bs.find_all(attrs={'class': 'comment_txt'})\n",
    "        \n",
    "    elif (recipe['publisher'] == 'Chow'):\n",
    "        reviews = bs.find_all(itemprop=\"comment\")\n",
    "\n",
    "    elif (recipe['publisher'] == 'Delishhh'):\n",
    "        reviews = bs.find_all(attrs={'class': 'commentmeta'})\n",
    "\n",
    "    elif (recipe['publisher'] == 'Food Network'):\n",
    "        reviews = bs.find_all(attrs={'class': 'gig-comment-body'})    \n",
    "    else:\n",
    "        print(recipe['publisher'])\n",
    "        getReviews(recipes, i+1)\n",
    "        \n",
    "    return reviews, recipe"
   ]
  },
  {
   "cell_type": "code",
   "execution_count": 91,
   "metadata": {
    "collapsed": true
   },
   "outputs": [],
   "source": [
    "reviews, recipe = getReviews(recipes)\n",
    "print(recipes)\n",
    "revs = [rv.get_text().replace('\\n', ' ').replace('\\r', '') for rv in reviews]"
   ]
  },
  {
   "cell_type": "markdown",
   "metadata": {
    "collapsed": true
   },
   "source": [
    "## Performing sentiment analysis"
   ]
  },
  {
   "cell_type": "code",
   "execution_count": 84,
   "metadata": {},
   "outputs": [],
   "source": [
    "from nltk.sentiment.vader import SentimentIntensityAnalyzer as sia"
   ]
  },
  {
   "cell_type": "code",
   "execution_count": 85,
   "metadata": {},
   "outputs": [],
   "source": [
    "analyzer = sia()\n",
    "scored = []\n",
    "for rev in revs:\n",
    "    res = analyzer.polarity_scores(rev)\n",
    "    tup = (rev, res)\n",
    "    scored.append(tup)"
   ]
  },
  {
   "cell_type": "code",
   "execution_count": 89,
   "metadata": {},
   "outputs": [],
   "source": [
    "def getKey(tup):\n",
    "    return tup[1]['compound']\n",
    "\n",
    "scored = sorted(scored, key=getKey)"
   ]
  },
  {
   "cell_type": "code",
   "execution_count": 90,
   "metadata": {},
   "outputs": [
    {
     "data": {
      "text/plain": [
       "[(\" I've now made this recipe twice: once as written and once seasoning the chicken before browning.  Seasoning the chicken first makes ALL the difference in this recipe!  I coated the breasts in si...         \",\n",
       "  {'compound': 0.0, 'neg': 0.0, 'neu': 1.0, 'pos': 0.0}),\n",
       " (' This is a great recipe-very simple without a lot of ingredients. Something \"special\" you can make even for an everynight dinner.        ',\n",
       "  {'compound': 0.6249, 'neg': 0.0, 'neu': 0.814, 'pos': 0.186}),\n",
       " (\" Ok, I don't give out many 5's.  I usually base it on how many people in the house eat it, and everyone ate this dish.  My 5 year old grandson enjoyed it and so did my daughter, my picky 16 year ...         \",\n",
       "  {'compound': 0.6705, 'neg': 0.0, 'neu': 0.871, 'pos': 0.129}),\n",
       " (' This recipe is quick, easy and has good flavor.  Although, instead of cooking in oil on a skillet, I breaded the chicken with Italian bread crumbs and baked it.  I prefer the flavor and texture ...         ',\n",
       "  {'compound': 0.7003, 'neg': 0.0, 'neu': 0.842, 'pos': 0.158}),\n",
       " (' This recipe is quick, easy and has good flavor.  Although, instead of cooking in oil on a skillet, I breaded the chicken with Italian bread crumbs and baked it.  I prefer the flavor and texture ...         ',\n",
       "  {'compound': 0.7003, 'neg': 0.0, 'neu': 0.842, 'pos': 0.158}),\n",
       " (\" It was good and my kids loved it! However, I thought it was okay. I felt like it needed more flavor. I MADE IT with Ragu tomato basil sauce, but didn't add anything else. Next time I will make i...         \",\n",
       "  {'compound': 0.7088, 'neg': 0.0, 'neu': 0.802, 'pos': 0.198}),\n",
       " (\" This was very good + very easy to make! I added a bit more sauce then what was required, to go alone with the noodles I made as a side. I couldn't find Italian Prego sauce, so I used regular spa...         \",\n",
       "  {'compound': 0.7133, 'neg': 0.05, 'neu': 0.776, 'pos': 0.174}),\n",
       " (' This is an excellent recipe.  The only thing I did differently from the recipe was to bread the chicken first.  Excellent flavor, my husband raved all the way through dinner.  I served with simp...         ',\n",
       "  {'compound': 0.8126, 'neg': 0.0, 'neu': 0.802, 'pos': 0.198}),\n",
       " (\" This is super easy and good! This will be my go-to recipe when I don't have much in the kitchen. I do recommend adding some garlic, Italian seasoning and to season the chicken while browning. I ...         \",\n",
       "  {'compound': 0.9098, 'neg': 0.0, 'neu': 0.706, 'pos': 0.294}),\n",
       " (\" I didn't know what I wanted to make for dinner tonight...but I DID know that I wanted something quick and easy. I'm SO glad that I found this! Super fast and tasty...even better...I had ALL the ...         \",\n",
       "  {'compound': 0.916, 'neg': 0.0, 'neu': 0.71, 'pos': 0.29}),\n",
       " (' Loved this recipe! I seasoned the chicken with salt, pepper and a bit of garlic powder and it was delicious! Served over linguine with a side salad. Perfection!        ',\n",
       "  {'compound': 0.9213, 'neg': 0.0, 'neu': 0.644, 'pos': 0.356})]"
      ]
     },
     "execution_count": 90,
     "metadata": {},
     "output_type": "execute_result"
    }
   ],
   "source": [
    "scored"
   ]
  },
  {
   "cell_type": "code",
   "execution_count": null,
   "metadata": {
    "collapsed": true
   },
   "outputs": [],
   "source": []
  }
 ],
 "metadata": {
  "kernelspec": {
   "display_name": "Python 3",
   "language": "python",
   "name": "python3"
  },
  "language_info": {
   "codemirror_mode": {
    "name": "ipython",
    "version": 3
   },
   "file_extension": ".py",
   "mimetype": "text/x-python",
   "name": "python",
   "nbconvert_exporter": "python",
   "pygments_lexer": "ipython3",
   "version": "3.6.1"
  }
 },
 "nbformat": 4,
 "nbformat_minor": 2
}
