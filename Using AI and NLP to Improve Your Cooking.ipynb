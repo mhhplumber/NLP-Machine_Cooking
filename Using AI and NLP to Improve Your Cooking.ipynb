{
 "cells": [
  {
   "cell_type": "markdown",
   "metadata": {},
   "source": [
    "# Using AI and NLP to Improve Your Cooking\n",
    "\n",
    "Michael Humkey, Conor Marsten"
   ]
  },
  {
   "cell_type": "code",
   "execution_count": 89,
   "metadata": {},
   "outputs": [],
   "source": [
    "import urllib"
   ]
  },
  {
   "cell_type": "code",
   "execution_count": 90,
   "metadata": {},
   "outputs": [],
   "source": [
    "url = \"http://food2fork.com/api/search?\"\n",
    "args = {'key' : 'd8b2df92a9cb994f2009b2be8410c1a3', 'q' : 'chicken', 'sort' : 'r'}\n",
    "data = urllib.parse.urlencode(args)\n",
    "req = urllib.request.Request(url+data, headers={'User-Agent': 'Mozilla/5.0'})\n",
    "response = urllib.request.urlopen(req).read()"
   ]
  },
  {
   "cell_type": "code",
   "execution_count": 91,
   "metadata": {},
   "outputs": [],
   "source": [
    "import json"
   ]
  },
  {
   "cell_type": "code",
   "execution_count": 92,
   "metadata": {},
   "outputs": [],
   "source": [
    "response = json.loads(response)\n",
    "recipes = response['recipes']"
   ]
  },
  {
   "cell_type": "code",
   "execution_count": 93,
   "metadata": {},
   "outputs": [],
   "source": [
    "from bs4 import BeautifulSoup"
   ]
  },
  {
   "cell_type": "code",
   "execution_count": 96,
   "metadata": {},
   "outputs": [],
   "source": [
    "def getReviews(recipes, i=0):\n",
    "\n",
    "    recipe = recipes[i]\n",
    "    url = \"http://food2fork.com/api/get?\"\n",
    "    data = urllib.parse.urlencode({'key' : 'd8b2df92a9cb994f2009b2be8410c1a3', 'rId' : recipe['recipe_id']})\n",
    "    req = urllib.request.Request(url+data, headers={'User-Agent': 'Mozilla/5.0'})\n",
    "    recipe = json.loads(urllib.request.urlopen(req).read())['recipe']\n",
    "    bs =  BeautifulSoup(requests.get(recipe['source_url']).content, 'html.parser')\n",
    "    reviews = []\n",
    "\n",
    "    if (recipe['publisher'] == '101 Cookbooks'): #1\n",
    "        reviews = bs.find_all(attrs={'class': 'card-body'})\n",
    "\n",
    "    elif (recipe['publisher'] == 'BBC Good Food'):\n",
    "        reviews = bs.find_all(attrs={'class': 'field-item even'})\n",
    "\n",
    "    elif (recipe['publisher'] == 'Closet Cooking' \n",
    "           or recipe['publisher'] == 'Eats Well With Others' \n",
    "           or recipe['publisher'] == \"Lisa's Kitchen\"\n",
    "           or recipe['publisher'] == 'A Spicy Perspective'\n",
    "           or recipe['publisher'] == 'Naturally Ella'\n",
    "           or recipe['publisher'] == 'Pastry Affair'):\n",
    "        reviews = bs.find_all(attrs={'class': 'comment-body'})\n",
    "\n",
    "    elif (recipe['publisher'] == 'Food Republic'):\n",
    "        reviews = bs.find_all(attrs={'class': '_5mdd'}) #uses facebook comments plugin\n",
    "\n",
    "    elif (recipe['publisher'] == 'PBS Food'):\n",
    "        reviews = bs.find_all(attrs={'class': 'post-message'})\n",
    "\n",
    "    elif (recipe['publisher'] == 'Simply Recipes'\n",
    "          or recipe['publisher'] == 'Homesick Texan'\n",
    "          or recipe['publisher'] == 'Tasty Kitchen'):\n",
    "        reviews = bs.find_all(attrs={'class': 'comment-text'})\n",
    "\n",
    "    elif (recipe['publisher'] == 'Two Peas and Their Pod'\n",
    "          or recipe['publisher'] == 'Cookie and Kate'\n",
    "          or recipe['publisher'] == \"Elana's Pantry\"\n",
    "          or recipe['publisher'] == 'My Baking Addiction'\n",
    "          or recipe['publisher'] == 'Smitten Kitchen'\n",
    "          or recipe['publisher'] == 'Vintage Mixer'\n",
    "          or recipe['publisher'] == 'Cookin Canuck'\n",
    "          or recipe['publisher'] == 'Healthy Delicious'\n",
    "          or recipe['publisher'] == 'Steamy Kitchen'\n",
    "          or recipe['publisher'] == \"What's Gaby Cooking\"\n",
    "          or recipe['publisher'] == 'Bunky Cooks'\n",
    "          or recipe['publisher'] == 'Serious Eats'):\n",
    "        reviews = bs.find_all(attrs={'class': 'comment-content'})\n",
    "\n",
    "    elif (recipe['publisher'] == 'All Recipes'):\n",
    "        reviews = bs.find_all(itemprop=\"reviewBody\")\n",
    "\n",
    "    elif (recipe['publisher'] == 'Big Girls Small Kitchen'\n",
    "          or recipe['publisher'] =='Jamie Oliver'\n",
    "          or recipe['publisher'] == 'The Pioneer Woman'):\n",
    "        reviews = bs.find_all(attrs={'data-role': 'message'})\n",
    "\n",
    "    elif (recipe['publisher'] == 'Framed Cooks'\n",
    "          or recipe['publisher'] == 'Picky Palate'):\n",
    "        reviews = bs.find_all(attrs={'class': 'comment even thread-even depth-1'})\n",
    "\n",
    "    elif (recipe['publisher'] == 'Bon Appetit'):\n",
    "        reviews = bs.find_all(attrs={'class': 'review-body'})\n",
    "\n",
    "    elif (recipe['publisher'] == 'Epicurious'):\n",
    "        reviews = bs.find_all(attrs={'class': 'review-text'})\n",
    "\n",
    "    elif (recipe['publisher'] == 'Cookstr'):\n",
    "        reviews = bs.find_all(attrs={'class': 'commentText'})\n",
    "\n",
    "    elif (recipe['publisher'] == 'Panini Happy'):\n",
    "        #careful, sloppy html\n",
    "        reviews = bs.find_all(attrs={'class': 'format_text'})\n",
    "\n",
    "    elif (recipe['publisher'] == 'Real Simple'):\n",
    "        reviews = bs.find_all(attrs={'class': 'comment_txt'})\n",
    "\n",
    "    elif (recipe['publisher'] == 'BBC Food'):\n",
    "        #DOES NOT HAVE REVIEWS\n",
    "        print('TOSS THIS ONE BACK IT AINT GOT NO REVIEWS\\n')\n",
    "\n",
    "    elif (recipe['publisher'] == 'Chow'):\n",
    "        reviews = bs.find_all(itemprop=\"comment\")\n",
    "\n",
    "    elif (recipe['publisher'] == 'Delishhh'):\n",
    "        reviews = bs.find_all(attrs={'class': 'commentmeta'})\n",
    "\n",
    "    elif (recipe['publisher'] == 'Food Network'):\n",
    "        reviews = bs.find_all(attrs={'class': 'gig-comment-body'})    \n",
    "    else:\n",
    "        print(recipe['publisher'])\n",
    "        getReviews(recipes, i+1)\n",
    "        \n",
    "    return reviews"
   ]
  },
  {
   "cell_type": "code",
   "execution_count": null,
   "metadata": {},
   "outputs": [],
   "source": [
    "reviews = getReviews(recipes)\n",
    "revs = [rv.get_text().replace('\\n', ' ') for rv in reviews]"
   ]
  },
  {
   "cell_type": "code",
   "execution_count": 98,
   "metadata": {},
   "outputs": [
    {
     "data": {
      "text/plain": [
       "[\" I HAVE to make this for my husband sometime soon.  We're trying to use up the last jalapenos from our garden this year - this would be perfect!!! Yum \",\n",
       " \" see now that's the way to do it.little bit of everything to dress up the chicken \",\n",
       " ' This looks really delicious and a nice twist on a great flavor combination.  ',\n",
       " ' That sounds like dinner tomorrow night! ',\n",
       " \" i grew up eating something just like this! thank you for the memory - i think it's time to revisit it! \",\n",
       " ' Intriguing, and looks delicious! ',\n",
       " ' Wonderful! I love that tasty filling.Cheers,Rosa ',\n",
       " ' What a great idea!  From the looks of your similar recipe referrals, it appears that you like jalapeno poppers as much as I do. :)  Definitely on my \"must make\" list! ',\n",
       " ' Awesome. I am going to have to try this soon! ',\n",
       " ' Aaaaand I just died.  ',\n",
       " ' This chicken looks fantastic Kevin - everything is better with bacon! ',\n",
       " \" I'm not the biggest chicken fan, but I would totally clean my plate if I had this for dinner! Amazing! \",\n",
       " ' Yikes!  That one is really calling to me... ',\n",
       " \" I just knew this was you when I saw the photo/description on foodgawker!  You've done it again, Kevin!  Looks deeeeelish!! \",\n",
       " \" This recipe looks amazing. I love bacon wrapped jalapeños, so I know I'll love this! \",\n",
       " ' This looks like a great dinner for when want to indulge just a little bit. Thanks for the recipe. ',\n",
       " ' Right up my alley! ',\n",
       " \" Finally tried this today... Yum! Loved the taste. However I could not get the bacon to cook up nice and crispy. I baked the chicken for 30 minutes and it was still flabby. Then I put them under the broiler and they just barely got a little more cooked. I didn't want to keep going and risk burning them or drying them out. Any suggestions for crispy bacon next time? (Because there will be a next time!) \",\n",
       " \" Delicious! The bacon didn't crisp up as much as yours did, so I turned on the broiler, which helped a bit. The chicken still stayed moist and I might've eaten some of the cheese that spilled out and sat cooking in the bacon fat. Mmmm.. \",\n",
       " ' Andrea & Nancy: I am glad you enjoyed them!The bacon is not going to get really crispy but broiling it will help and since the chicken is wrapped in bacon you do not have to worry about drying out the chicken when broiling as the bacon will keep it nice and moist.  If you want to get a crispier bacon, you could try sauteing the bacon wrapped chicken in a pan first.This recipe would also benefit from being done on the grill where you can really get a nice crispy char on the bacon with the heat and flames of the grill. ',\n",
       " ' I found you on stumble-this looks awesome..on my to try right away list.Regina...@cooking-with-mama.com ',\n",
       " ' Any Idea on what to substitute the Jalapenos with? ',\n",
       " ' Those look delicious. My family is having a party next week, I am going to need to make these! Yum.Karim @ Denver Aiport Transportation ',\n",
       " ' Anonymous:  You could use pretty much any kind of chili that you can get your hands on but adjust the amount based on the heat level of that particular chili.  If it is that you cannot find fresh jalapenos, you could used pickled jalapenos.  You should be able to find them in jars or cans in the Mexican section of most grocery stores. ',\n",
       " ' These were amazing. I cooked it up a little longer to give the bacon a crisp and my kids went crazy over them. ',\n",
       " ' These were amazing. I cooked it up a little longer to give the bacon a crisp and my kids went crazy over them. ',\n",
       " ' I fried the bacon alittle before i wrapped the chicken and it was nice and crispy. ',\n",
       " ' Wow, this has almost every food I love. This sounds great!! ',\n",
       " ' I came across this recipe and thought it looked like it would be decent, so I tried it. I decided to precook the bacon a little based on past experiences, so it crisped up nicely. Wow! It was even better than I expected! Definitely going to be making this again.  ',\n",
       " \" I had some good quality, thick cut bacon and partly cooked it first....got my husband to make it for dinner tonight, and we both LOVED it!  Couldn't be easier, or better!  Thanks Kevin.   \",\n",
       " ' My wife and I have made this dish twice now. It is an awesome recipe and now has a place in our personal cook book. Thanks for the recipe! ',\n",
       " ' I made this right away the first time I saw it and it was WAY better than I had even imagined it was going to be! Definitely a keeper!  ',\n",
       " ' i just made this last night, and it was delicious. but how did you get your bacon so (at least in looks) crispy. i had to broil mine for about 5 minutes to get the tops cooked and then the bottom was still very chewy. ',\n",
       " ' I made this for dinner last night.  It was delicious and super easy, I bought thin sliced chicken breasts instead of pounding chicken breasts and it cooked faster and was a lot easier to make.   ',\n",
       " ' Aimee:  Glad you enjoyed it! I got the bacon you see in the photos just by baking it as in the directions.  You do not want to use a thick cut of bacon for this recipe and broiling should help.  You can also pre-cook the bacon a little, just until you can still easily wrap it around the chicken. ',\n",
       " ' Delicioussss!!!Only thing is that all my cheese melted out :( so the only thing it was stuffed with was the remains of the Jalapenos!How did you keep all that cheese so perfectly in there?!! ',\n",
       " ' Amanda:  It can be a bit tricky but you need to wrap them well so that there are large holes for the cheese to go out.  You can use toothpicks to help seal them up. ',\n",
       " \" Tried this recipe today. The jalapeno's are great, flavor is nice, if you want some kick leave the seeds in. \",\n",
       " ' Made this tonight...we have been thinking about it for a week. It was marvelous! However, I should have read to the bottom of the comments to see the toothpick and NOT thick cut bacon tips. Regardless, I have been told to add this to our list of favorites! Thanks for your site Keven and all the work you do for the rest of us!! YOU ROCK! ',\n",
       " ' I made this and also had trouble getting the bacon to crisp so I popped it under the broiler for the last 5-7 minutes.   I used pounded chicken tenders and 1/2 strip bacon & secured with toothpicks.  I rolled them the night before and baked in an au gratin dish.  Next time I make them, I will use a cookie sheet with a 1/2\" wall as I think it will get hotter and the heat will circulate better.  All in all, they had a very good flavor and I will make again.  ',\n",
       " \" I wanna make this but every time i make anything wrapped in bacon, it seems the bacon comes out only half cooked.  Nothing, and i mean nothing, is worse than taking a bite and getting a piece of bacon that isn't done.  Ick pooey.  Any suggestions?  I thought about using precooked bacon strips ? \",\n",
       " ' I was craving a piece of chicken wrapped in bacon yesterday and after a Google search, I stubbled upon your recipe. Made it last night and all I can say is \"It was to DIE for\"!!!!   Thank you for posting this delicious recipe on your blog!  I\\'m looking forward to trying more of your recipes in the future!  ',\n",
       " \" Can these be cooked in an electric skillet? My bf loves my rattlesnake bites (jalepano poppers) and I know he'd love this too! Im trying to find recipes to cook in a hotel room using an electric skillet & crockpot. I hope this can work in an electric skillet. \",\n",
       " \" Summy: You can precook the bacon a bit, just enough that you can still wrap it and in the end of cooking, turn on the broiler to finish off the bacon.  Don't worry too much about drying out the chicken since the bacon wrapping will help keep it moist. \",\n",
       " ' Anonymous:  You should be able to do this completely in the skillet but you are going to want to make sure that the chicken is cut very thinly so that the inside gets cooked without the outside burning. ',\n",
       " \" Hello Kevin,that bacon wrapped chicken looks so good, but my hubby isn't allowed to eat cheeses.Can you recommend another stuffing i could use.Be much obliged if you could.Rosemarie. \",\n",
       " \" they look Delicioussss, the only thing my wife can't handle spicy stuff very well \",\n",
       " \" I usually agree with your jalapeno themed recipes, this was no exception.  next time I'll precook the bacon a little bit more, but this was absolutely delicious! \",\n",
       " \" Tried something similar from the food channel. They were more like bacon baskets, formed and filled in a LADLE! It's taking longer than normal to bake.  \",\n",
       " \" UPDATE: I think we have a new fetish here. Thanks for sharing. Like I stated, I used a ladle to form: 4 slices bacon, then one x-thinly sliced chicken breast/diced al dente veggies (broccoli, carrot, celery, onion,) slice provolone, the jalapenos, sea salt n' pepper. After filling, I WRAPPED the bacon slices over the filling till it looked like a little woven package.  Baked at 375, broil 4 minutes. ( I crisped up bottom in a skillet for a few minutes.) I sliced w/ tomato and shredded mozzarella. I'm going to try the cream cheese next time! \",\n",
       " ' A DEFINITE WINNER!! found via google for a similar recipe, wished i\\'d had more filling! i had 3 good sized breasts & halved them before i thinned them out. grilled & finished off in the oven (once filling started oozing.) added scallions to the filling mix as well. one thing i will remember for next time (& like another commenter stated \"there WILL be a \\'next time\\'!\") i will make sure the bacon isn\\'t doubled up bc whatever is not exposed does not crisp. thanks so much for the great recipe! my hubby raved! ',\n",
       " \" Thought this was delicious- next time I think I'm going to cut small strips of bacon and only put them on the top, since the bacon on the bottom didn't get crispy.   Total winner, thank you! \",\n",
       " \" My brother makes stuffed jalapenos wrapped in bacon. They are great, but too hot for me. These look like a GREAT (better) idea with the similar tastes. Can't wait to try them. Thanks for the share.  \",\n",
       " ' I didnt dice the peppers I halved them long ways, took out half of the seed and ribs(my husband and I enjoy spicy food and it gives it a bit more of kick than if you removed them completely) I filled the peppers with the Cream cheese and Cheddar mixture, rolled wrapped and baked as it says, IT WAS AMAZING! And stuffing the pepper halves seems to help keep the yummy gooey cheese mix inside the chicken. I didnt use bacon, as I think two different type of cheese is enough calorie loaded ingredients for one meal. It was still amazing! Next time I am thinking of doing just Cream Cheese and using a turkey bacon. Would that type of bacon work? I feel that with the lower fat content it might crisp better than regular bacon? ',\n",
       " ' Anonymous: Turkey bacon should work, just go for a thin cut rather than thick cut. ',\n",
       " \" I just want to add a note here... using fresh jalapenos is great, but they taste much better if you roast them first!  Roasting really brings out the depth of flavor that you need with chicken and cheese.  Roasting is easy... just broil the peppers (after halving and seeding) skin side up until the skin starts to blacken and bubble.  Then pop them into a ziplock bag or sealed container to steam for at least 20 minutes.  When they're done, the peppers are nice and soft (and smell wonderful) and the skins just slip right off!   Give the recipe a try this way.  I think you'll really love it!   \",\n",
       " ' Seriously yummy and I had no problems with either the bacon falling apart or being not to crispy. I loved the taste of fresh jalapenos and have now officially added this to my product list. Thanks ',\n",
       " ' This is bound to impress your family. It looks complicated but is actually so simple!  Using the bacon to keep the chicken moist is a win! ',\n",
       " ' I made these a few weeks ago and really good... my chicken got a little dried out I think because I cooked longer to the bacon \"pretty\"! Has anyone tried this with boneless chicken thighs?? ',\n",
       " \" Kelly Purcell ~ Zalli Design:  I'm glad you enjoyed it!  You can pre-cook the bacon a bit to help it get crispy sooner and boneless chicken thighs would work wonderfully! \",\n",
       " \" Our family loves this! I don't wrap the bacon around the chicken,  I diced up the bacon and precooked it then added it to cheese mix. Comes out perfect!  \",\n",
       " ' I broil  at the end to crisp the bacon and put them on a cooling rack for baking to see if that helped with the soggy bottom. I did put bacon on only the top  this time but I think wrapping  held the chicken together better. I have also done this recipe by pounding the chicken out and then putting a pocket in to hold the stuffing. My child is not a fan of the jalapeños  so I Blanche broccoli and use that instead for his! ',\n",
       " ' I broil  at the end to crisp the bacon and put them on a cooling rack for baking to see if that helped with the soggy bottom. I did put bacon on only the top  this time but I think wrapping  held the chicken together better. I have also done this recipe by pounding the chicken out and then putting a pocket in to hold the stuffing. My child is not a fan of the jalapeños  so I Blanche broccoli and use that instead for his! ',\n",
       " \" Amazing and a perfect addition to my new low-carb high-fat diet!  BTW for those who couldn't get the bacon crisp I cooked in an Avanti oven with a horizontal rotisserie, it was perfect crisp.  Another idea btw might be to pan cook the bacon to the point it is still pliable and let it get semi-pan crisped. Lastly perhaps rubbing outside of the chicken with some butter or olive oil might crisp cook them. \",\n",
       " ' Wrapping bacon around anything is my favorite! ',\n",
       " ' Wow this looks decadent and delicious! ',\n",
       " \" WOW WOW WOW. I can't get over that oooey gooey center. Like c'mon. And there's only a few ingredients in this? The most perfect thing to bring to a BBQ.  \",\n",
       " ' wow really nice, meal, I cooked yesterday for my wife and kids, looking forward to try again next week, adding some more spices.... ',\n",
       " \" Made this dish this past weekend after seeing a friend share the recipe on Facebook. It's absolutely fabulous! I already love jalapeno poppers, so this was a great recipe. I decided to check out your website, and I'm completely impressed. Thank you for your fresh take on everything. The pictures are spot-on; the recipes are lovely and unpretencious. I've shared your link for others to find you! Thanks so much for new ideas! \",\n",
       " \" I don't know what went wrong, my chicken did not ooze of cheese like the picture, actually it was very dry. I cooked on gas grill, indirect heat for 25-30 min. Bacon was crispy, and the flavor was  there, but dry. I will try again, doubling the cheese mixture.  \",\n",
       " ' Kathleen: The bacon wrapping and cheese stuffing should keep the chicken nice and moist. Doubling the cheese mixture only makes things better! ',\n",
       " \" I'm going to add this to Yummly and try it soon. It sounds wonderful. There's one thing though... I really wish that when people post a main portion recipe like this, that they'd suggest sides that would work well. I don't think too many people just eat a piece of meat for dinner. That's something that I would love to see food bloggers do, so that we could have ideas for the whole meal. \",\n",
       " \" Just tried it today with rehydrated guajillo chili's and it was even better than with Jalapenos \",\n",
       " ' MarcTheEngineer: Guajillos would be good! ']"
      ]
     },
     "execution_count": 98,
     "metadata": {},
     "output_type": "execute_result"
    }
   ],
   "source": [
    "revs"
   ]
  },
  {
   "cell_type": "code",
   "execution_count": null,
   "metadata": {
    "collapsed": true
   },
   "outputs": [],
   "source": []
  }
 ],
 "metadata": {
  "kernelspec": {
   "display_name": "Python 3",
   "language": "python",
   "name": "python3"
  },
  "language_info": {
   "codemirror_mode": {
    "name": "ipython",
    "version": 3
   },
   "file_extension": ".py",
   "mimetype": "text/x-python",
   "name": "python",
   "nbconvert_exporter": "python",
   "pygments_lexer": "ipython3",
   "version": "3.6.1"
  }
 },
 "nbformat": 4,
 "nbformat_minor": 2
}
