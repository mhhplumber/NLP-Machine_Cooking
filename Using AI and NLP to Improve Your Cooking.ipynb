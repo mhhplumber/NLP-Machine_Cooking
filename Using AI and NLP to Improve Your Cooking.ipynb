{
 "cells": [
  {
   "cell_type": "markdown",
   "metadata": {},
   "source": [
    "# Using AI and NLP to Improve Your Cooking\n",
    "\n",
    "Michael Humkey, Conor Marsten"
   ]
  },
  {
   "cell_type": "code",
   "execution_count": 1,
   "metadata": {
    "collapsed": true
   },
   "outputs": [],
   "source": [
    "import urllib\n",
    "import urllib.request"
   ]
  },
  {
   "cell_type": "code",
   "execution_count": 2,
   "metadata": {
    "collapsed": true
   },
   "outputs": [],
   "source": [
    "url = \"http://food2fork.com/api/search?\"\n",
    "args = {'key' : 'd8b2df92a9cb994f2009b2be8410c1a3', 'q' : 'taco', 'sort' : 'r'}\n",
    "data = urllib.parse.urlencode(args)\n",
    "req = urllib.request.Request(url+data, headers={'User-Agent': 'Mozilla/5.0'})\n",
    "response = urllib.request.urlopen(req).read()"
   ]
  },
  {
   "cell_type": "code",
   "execution_count": 3,
   "metadata": {
    "collapsed": true
   },
   "outputs": [],
   "source": [
    "import json"
   ]
  },
  {
   "cell_type": "code",
   "execution_count": 4,
   "metadata": {
    "collapsed": true
   },
   "outputs": [],
   "source": [
    "response = json.loads(response)\n",
    "recipes = response['recipes']"
   ]
  },
  {
   "cell_type": "code",
   "execution_count": 5,
   "metadata": {
    "collapsed": true
   },
   "outputs": [],
   "source": [
    "from bs4 import BeautifulSoup\n",
    "import requests"
   ]
  },
  {
   "cell_type": "code",
   "execution_count": 7,
   "metadata": {
    "collapsed": true
   },
   "outputs": [],
   "source": [
    "def getReviews(recipes, i=0):\n",
    "\n",
    "    recipe = recipes[i]\n",
    "    url = \"http://food2fork.com/api/get?\"\n",
    "    data = urllib.parse.urlencode({'key' : 'd8b2df92a9cb994f2009b2be8410c1a3', 'rId' : recipe['recipe_id']})\n",
    "    req = urllib.request.Request(url+data, headers={'User-Agent': 'Mozilla/5.0'})\n",
    "    recipe = json.loads(urllib.request.urlopen(req).read())['recipe']\n",
    "    bs =  BeautifulSoup(requests.get(recipe['source_url']).content, 'html.parser')\n",
    "    reviews = []\n",
    "\n",
    "    if (recipe['publisher'] == '101 Cookbooks'): #1\n",
    "        reviews = bs.find_all(attrs={'class': 'card-body'})\n",
    "\n",
    "    elif (recipe['publisher'] == 'BBC Good Food'):\n",
    "        reviews = bs.find_all(attrs={'class': 'field-item even'})\n",
    "\n",
    "    elif (recipe['publisher'] == 'Closet Cooking' \n",
    "           or recipe['publisher'] == 'Eats Well With Others' \n",
    "           or recipe['publisher'] == \"Lisa's Kitchen\"\n",
    "           or recipe['publisher'] == 'A Spicy Perspective'\n",
    "           or recipe['publisher'] == 'Naturally Ella'\n",
    "           or recipe['publisher'] == 'Pastry Affair'):\n",
    "        reviews = bs.find_all(attrs={'class': 'comment-body'})\n",
    "\n",
    "    elif (recipe['publisher'] == 'Food Republic'):\n",
    "        reviews = bs.find_all(attrs={'class': '_5mdd'}) #uses facebook comments plugin\n",
    "\n",
    "    elif (recipe['publisher'] == 'PBS Food'):\n",
    "        reviews = bs.find_all(attrs={'class': 'post-message'})\n",
    "\n",
    "    elif (recipe['publisher'] == 'Simply Recipes'\n",
    "          or recipe['publisher'] == 'Homesick Texan'\n",
    "          or recipe['publisher'] == 'Tasty Kitchen'):\n",
    "        reviews = bs.find_all(attrs={'class': 'comment-text'})\n",
    "\n",
    "    elif (recipe['publisher'] == 'Two Peas and Their Pod'\n",
    "          or recipe['publisher'] == 'Cookie and Kate'\n",
    "          or recipe['publisher'] == \"Elana's Pantry\"\n",
    "          or recipe['publisher'] == 'My Baking Addiction'\n",
    "          or recipe['publisher'] == 'Smitten Kitchen'\n",
    "          or recipe['publisher'] == 'Vintage Mixer'\n",
    "          or recipe['publisher'] == 'Cookin Canuck'\n",
    "          or recipe['publisher'] == 'Healthy Delicious'\n",
    "          or recipe['publisher'] == 'Steamy Kitchen'\n",
    "          or recipe['publisher'] == \"What's Gaby Cooking\"\n",
    "          or recipe['publisher'] == 'Bunky Cooks'\n",
    "          or recipe['publisher'] == 'Serious Eats'):\n",
    "        reviews = bs.find_all(attrs={'class': 'comment-content'})\n",
    "\n",
    "    elif (recipe['publisher'] == 'All Recipes'):\n",
    "        reviews = bs.find_all(attrs={'class' : 'review-detail__link'})\n",
    "        revList = []\n",
    "        for review in reviews:\n",
    "            revList.append(str(review).split(' ')[2].replace('href=\\\"', '').replace('\\\"', ''))\n",
    "        reviews = []\n",
    "        for url in revList:\n",
    "            bs =  BeautifulSoup(requests.get(url).content, 'html.parser')\n",
    "            reviews.append(bs.find(itemprop=\"reviewBody\"))\n",
    "\n",
    "    elif (recipe['publisher'] == 'Big Girls Small Kitchen'\n",
    "          or recipe['publisher'] =='Jamie Oliver'\n",
    "          or recipe['publisher'] == 'The Pioneer Woman'):\n",
    "        reviews = bs.find_all(attrs={'data-role': 'message'})\n",
    "\n",
    "    elif (recipe['publisher'] == 'Framed Cooks'\n",
    "          or recipe['publisher'] == 'Picky Palate'):\n",
    "        reviews = bs.find_all(attrs={'class': 'comment even thread-even depth-1'})\n",
    "\n",
    "    elif (recipe['publisher'] == 'Bon Appetit'):\n",
    "        reviews = bs.find_all(attrs={'class': 'review-body'})\n",
    "\n",
    "    elif (recipe['publisher'] == 'Epicurious'):\n",
    "        reviews = bs.find_all(attrs={'class': 'review-text'})\n",
    "\n",
    "    elif (recipe['publisher'] == 'Cookstr'):\n",
    "        reviews = bs.find_all(attrs={'class': 'commentText'})\n",
    "\n",
    "    elif (recipe['publisher'] == 'Panini Happy'):\n",
    "        #careful, sloppy html\n",
    "        reviews = bs.find_all(attrs={'class': 'format_text'})\n",
    "\n",
    "    elif (recipe['publisher'] == 'Real Simple'):\n",
    "        reviews = bs.find_all(attrs={'class': 'comment_txt'})\n",
    "        \n",
    "    elif (recipe['publisher'] == 'Chow'):\n",
    "        reviews = bs.find_all(itemprop=\"comment\")\n",
    "\n",
    "    elif (recipe['publisher'] == 'Delishhh'):\n",
    "        reviews = bs.find_all(attrs={'class': 'commentmeta'})\n",
    "\n",
    "    elif (recipe['publisher'] == 'Food Network'):\n",
    "        reviews = bs.find_all(attrs={'class': 'gig-comment-body'})    \n",
    "    else:\n",
    "        print(recipe['publisher'])\n",
    "        getReviews(recipes, i+1)\n",
    "        \n",
    "    return reviews, recipe"
   ]
  },
  {
   "cell_type": "code",
   "execution_count": 10,
   "metadata": {},
   "outputs": [],
   "source": [
    "reviews, recipe = getReviews(recipes)    \n",
    "# if type(reviews[0]) is not str:\n",
    "revs = [rv.get_text().replace('\\n', ' ').replace('\\r', '') for rv in reviews]\n",
    "# else:\n",
    "#     revs = [rv.replace('\\n', ' ').replace('\\r', '') for rv in reviews]"
   ]
  },
  {
   "cell_type": "code",
   "execution_count": 11,
   "metadata": {},
   "outputs": [
    {
     "name": "stdout",
     "output_type": "stream",
     "text": [
      "<class 'bs4.element.Tag'>\n",
      "<p itemprop=\"reviewBody\">\r\n",
      "                This is my recipe and I am thrilled you all are loving it!  Here is the recipe for Bill Echols Taco Seasoning.  It really makes this recipe.\n",
      "1 tablespoon chili powder \n",
      "1/4 teaspoon garlic powder \n",
      "1/4 teaspoon onion powder \n",
      "1/4 teaspoon crushed red pepper flakes \n",
      "1/4 teaspoon dried oregano \n",
      "1/2 teaspoon paprika \n",
      "1 1/2 teaspoons ground cumin \n",
      "1 teaspoon sea salt \n",
      "1 teaspoon black pepper\r\n",
      "            </p>\n"
     ]
    }
   ],
   "source": [
    "print(type(reviews[0]))\n",
    "print(reviews[0])"
   ]
  },
  {
   "cell_type": "markdown",
   "metadata": {},
   "source": [
    "## Checking for foods"
   ]
  },
  {
   "cell_type": "code",
   "execution_count": 16,
   "metadata": {
    "collapsed": true
   },
   "outputs": [],
   "source": [
    "from nltk.corpus import wordnet as wn\n",
    "food = wn.synset('food.n.02')"
   ]
  },
  {
   "cell_type": "code",
   "execution_count": 18,
   "metadata": {},
   "outputs": [
    {
     "data": {
      "text/plain": [
       "'All Recipes'"
      ]
     },
     "execution_count": 18,
     "metadata": {},
     "output_type": "execute_result"
    }
   ],
   "source": [
    "recipe['publisher']"
   ]
  },
  {
   "cell_type": "code",
   "execution_count": 19,
   "metadata": {},
   "outputs": [
    {
     "data": {
      "text/plain": [
       "{'f2f_url': 'http://food2fork.com/view/28924',\n",
       " 'image_url': 'http://static.food2fork.com/9843414ab7.jpg',\n",
       " 'ingredients': ['1 onion, chopped',\n",
       "  '1 (16 ounce) can chili beans',\n",
       "  '1 (15 ounce) can black beans',\n",
       "  '1 (15 ounce) can whole kernel corn, drained',\n",
       "  '1 (8 ounce) can tomato sauce',\n",
       "  '1 (12 fluid ounce) can or bottle beer',\n",
       "  '2 (10 ounce) cans diced tomatoes with green chilies, undrained',\n",
       "  '1 (1.25 ounce) package taco seasoning',\n",
       "  '3 whole skinless, boneless chicken breasts',\n",
       "  'shredded Cheddar cheese (optional)',\n",
       "  'sour cream (optional)',\n",
       "  'crushed tortilla chips (optional)'],\n",
       " 'publisher': 'All Recipes',\n",
       " 'publisher_url': 'http://allrecipes.com',\n",
       " 'recipe_id': '28924',\n",
       " 'social_rank': 99.99999999999945,\n",
       " 'source_url': 'http://allrecipes.com/Recipe/Slow-Cooker-Chicken-Taco-Soup/Detail.aspx',\n",
       " 'title': 'Slow Cooker Chicken Taco Soup'}"
      ]
     },
     "execution_count": 19,
     "metadata": {},
     "output_type": "execute_result"
    }
   ],
   "source": [
    "recipe"
   ]
  },
  {
   "cell_type": "code",
   "execution_count": 23,
   "metadata": {},
   "outputs": [
    {
     "name": "stdout",
     "output_type": "stream",
     "text": [
      "[('This', 'DT'), ('is', 'VBZ'), ('my', 'PRP$'), ('recipe', 'NN'), ('and', 'CC'), ('I', 'PRP'), ('am', 'VBP'), ('thrilled', 'VBN'), ('you', 'PRP'), ('all', 'DT'), ('are', 'VBP'), ('loving', 'VBG'), ('it', 'PRP'), ('!', '.'), ('Here', 'RB'), ('is', 'VBZ'), ('the', 'DT'), ('recipe', 'NN'), ('for', 'IN'), ('Bill', 'NNP'), ('Echols', 'NNP'), ('Taco', 'NNP'), ('Seasoning', 'NNP'), ('.', '.'), ('It', 'PRP'), ('really', 'RB'), ('makes', 'VBZ'), ('this', 'DT'), ('recipe', 'NN'), ('.', '.'), ('1', 'CD'), ('tablespoon', 'NN'), ('chili', 'NN'), ('powder', 'NN'), ('1/4', 'CD'), ('teaspoon', 'NN'), ('garlic', 'JJ'), ('powder', 'NN'), ('1/4', 'CD'), ('teaspoon', 'NN'), ('onion', 'NN'), ('powder', 'NN'), ('1/4', 'CD'), ('teaspoon', 'NN'), ('crushed', 'VBD'), ('red', 'JJ'), ('pepper', 'NN'), ('flakes', 'VBZ'), ('1/4', 'CD'), ('teaspoon', 'NN'), ('dried', 'VBD'), ('oregano', 'JJ'), ('1/2', 'CD'), ('teaspoon', 'NN'), ('paprika', 'VBD'), ('1', 'CD'), ('1/2', 'CD'), ('teaspoons', 'NNS'), ('ground', 'NN'), ('cumin', 'VBZ'), ('1', 'CD'), ('teaspoon', 'NN'), ('sea', 'NN'), ('salt', 'VBD'), ('1', 'CD'), ('teaspoon', 'NN'), ('black', 'JJ'), ('pepper', 'NN')]\n"
     ]
    }
   ],
   "source": [
    "import nltk\n",
    "from nltk import word_tokenize, pos_tag\n",
    "text = word_tokenize(reviews[0].get_text())\n",
    "tagged_text = nltk.pos_tag(text)\n",
    "print(tagged_text)"
   ]
  },
  {
   "cell_type": "code",
   "execution_count": 49,
   "metadata": {},
   "outputs": [
    {
     "name": "stdout",
     "output_type": "stream",
     "text": [
      " 1 tablespoon chili powder  1/4 teaspoon garlic powder  1/4 teaspoon onion powder  1/4 teaspoon crushed red pepper flakes  1/4 teaspoon dried oregano  1/2 teaspoon paprika  1 1/2 teaspoons ground cumin  1 teaspoon sea salt  1 teaspoon black pepper             \n",
      " In addition to these toppings  I added a very small amount of thinly sliced green onion and fresh cilantro\n",
      " However, I took a chance and used Heineken for this recipe as well as the taco seasoning and tomatoes with chilies and the soup was DELICIOUS\n",
      "  Used pinto beans instead of chili beans and added a full 28 oz can of diced tomatoes\n",
      " I added some chili powder, cumin, flaked red pepper, salt, and garlic powder\n",
      "  I left out the onion because my family doesn't like it\n"
     ]
    }
   ],
   "source": [
    "import sqlite3\n",
    "conn = sqlite3.connect('usda.sql3')\n",
    "excluded_words = ['recipe', 'powder', 'ground', 'sea']\n",
    "out =[]\n",
    "\n",
    "for rv in revs:\n",
    "    text = word_tokenize(reviews[0].get_text())\n",
    "    tagged_text = nltk.pos_tag(text)\n",
    "    for tt in tagged_text:\n",
    "        if tt[1] == 'NN' and tt[0] not in excluded_words:\n",
    "            search = '%' + tt[0] + '%'\n",
    "            c = conn.cursor()\n",
    "            c.execute('SELECT id, short_desc FROM food WHERE short_desc LIKE ?', (search,))\n",
    "            values = c.fetchall()\n",
    "            if len(values) != 0:\n",
    "                for sentence in rv.split('.'):\n",
    "                    if tt[0] in sentence and sentence not in out:\n",
    "                        out.append(sentence)\n",
    "#             for row in values:\n",
    "#                 print(tt, row[0], row[1])\n",
    "for x in out:\n",
    "    print(x)"
   ]
  },
  {
   "cell_type": "markdown",
   "metadata": {
    "collapsed": true
   },
   "source": [
    "## Performing sentiment analysis"
   ]
  },
  {
   "cell_type": "code",
   "execution_count": 50,
   "metadata": {
    "collapsed": true
   },
   "outputs": [],
   "source": [
    "from nltk.sentiment.vader import SentimentIntensityAnalyzer as sia"
   ]
  },
  {
   "cell_type": "code",
   "execution_count": 51,
   "metadata": {
    "collapsed": true
   },
   "outputs": [],
   "source": [
    "analyzer = sia()\n",
    "scored = []\n",
    "for sent in out:\n",
    "    res = analyzer.polarity_scores(sent)\n",
    "    tup = (sent, res)\n",
    "    scored.append(tup)"
   ]
  },
  {
   "cell_type": "code",
   "execution_count": 52,
   "metadata": {
    "collapsed": true
   },
   "outputs": [],
   "source": [
    "def getKey(tup):\n",
    "    return tup[1]['compound']\n",
    "\n",
    "scored = list(reversed(sorted(scored, key=getKey)))"
   ]
  },
  {
   "cell_type": "code",
   "execution_count": 53,
   "metadata": {},
   "outputs": [
    {
     "data": {
      "text/plain": [
       "[(' However, I took a chance and used Heineken for this recipe as well as the taco seasoning and tomatoes with chilies and the soup was DELICIOUS',\n",
       "  {'compound': 0.8192, 'neg': 0.0, 'neu': 0.711, 'pos': 0.289}),\n",
       " (' In addition to these toppings  I added a very small amount of thinly sliced green onion and fresh cilantro',\n",
       "  {'compound': 0.3182, 'neg': 0.0, 'neu': 0.874, 'pos': 0.126}),\n",
       " (' 1 tablespoon chili powder  1/4 teaspoon garlic powder  1/4 teaspoon onion powder  1/4 teaspoon crushed red pepper flakes  1/4 teaspoon dried oregano  1/2 teaspoon paprika  1 1/2 teaspoons ground cumin  1 teaspoon sea salt  1 teaspoon black pepper             ',\n",
       "  {'compound': 0.0258, 'neg': 0.074, 'neu': 0.663, 'pos': 0.263}),\n",
       " (' I added some chili powder, cumin, flaked red pepper, salt, and garlic powder',\n",
       "  {'compound': 0.0, 'neg': 0.0, 'neu': 1.0, 'pos': 0.0}),\n",
       " ('  Used pinto beans instead of chili beans and added a full 28 oz can of diced tomatoes',\n",
       "  {'compound': 0.0, 'neg': 0.0, 'neu': 1.0, 'pos': 0.0}),\n",
       " (\"  I left out the onion because my family doesn't like it\",\n",
       "  {'compound': -0.2755, 'neg': 0.19, 'neu': 0.81, 'pos': 0.0})]"
      ]
     },
     "execution_count": 53,
     "metadata": {},
     "output_type": "execute_result"
    }
   ],
   "source": [
    "scored"
   ]
  }
 ],
 "metadata": {
  "kernelspec": {
   "display_name": "Python 3",
   "language": "python",
   "name": "python3"
  },
  "language_info": {
   "codemirror_mode": {
    "name": "ipython",
    "version": 3
   },
   "file_extension": ".py",
   "mimetype": "text/x-python",
   "name": "python",
   "nbconvert_exporter": "python",
   "pygments_lexer": "ipython3",
   "version": "3.6.1"
  }
 },
 "nbformat": 4,
 "nbformat_minor": 2
}
