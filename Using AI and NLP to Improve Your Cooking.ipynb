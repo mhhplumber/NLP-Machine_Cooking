{
 "cells": [
  {
   "cell_type": "markdown",
   "metadata": {
    "slideshow": {
     "slide_type": "slide"
    }
   },
   "source": [
    "# Using AI and NLP to Improve Your Cooking\n",
    "\n",
    "Michael Humkey, Conor Marsten"
   ]
  },
  {
   "cell_type": "markdown",
   "metadata": {
    "slideshow": {
     "slide_type": "slide"
    }
   },
   "source": [
    "## Introduction"
   ]
  },
  {
   "cell_type": "markdown",
   "metadata": {
    "slideshow": {
     "slide_type": "subslide"
    }
   },
   "source": [
    "### Why?\n",
    "Surely all cooking can be improved by a little constructive criticism. But how do we determine what is useful?"
   ]
  },
  {
   "cell_type": "markdown",
   "metadata": {
    "slideshow": {
     "slide_type": "subslide"
    }
   },
   "source": [
    "### How?\n",
    "Given a recipe and list of reviews for the recipe, we will look for criticisms by performing POS  tagging and pulling out nouns to provide suggestions for improving the recipe"
   ]
  },
  {
   "cell_type": "markdown",
   "metadata": {
    "slideshow": {
     "slide_type": "slide"
    }
   },
   "source": [
    "## Building the Dataset"
   ]
  },
  {
   "cell_type": "markdown",
   "metadata": {
    "slideshow": {
     "slide_type": "subslide"
    }
   },
   "source": [
    "First we are using the food2fork api to search for a recipe. For simplicity’s sake we are just using the first element returned in the list of query results. This recipe consists of a source URL, a list of ingredients, a title, and a publisher name among a handful of other fields. Then we are using BeautifulSoup to load in the source URL and scrape each review from the web page. \n"
   ]
  },
  {
   "cell_type": "code",
   "execution_count": 100,
   "metadata": {
    "collapsed": true,
    "slideshow": {
     "slide_type": "subslide"
    }
   },
   "outputs": [],
   "source": [
    "import urllib\n",
    "import urllib.request"
   ]
  },
  {
   "cell_type": "code",
   "execution_count": 101,
   "metadata": {
    "collapsed": true,
    "slideshow": {
     "slide_type": "subslide"
    }
   },
   "outputs": [],
   "source": [
    "url = \"http://food2fork.com/api/search?\"\n",
    "args = {'key' : 'd8b2df92a9cb994f2009b2be8410c1a3', 'q' : 'duck', 'sort' : 'r'}\n",
    "data = urllib.parse.urlencode(args)\n",
    "req = urllib.request.Request(url+data, headers={'User-Agent': 'Mozilla/5.0'})\n",
    "response = urllib.request.urlopen(req).read()"
   ]
  },
  {
   "cell_type": "code",
   "execution_count": 102,
   "metadata": {
    "collapsed": true,
    "slideshow": {
     "slide_type": "subslide"
    }
   },
   "outputs": [],
   "source": [
    "import json"
   ]
  },
  {
   "cell_type": "code",
   "execution_count": 103,
   "metadata": {
    "collapsed": true,
    "slideshow": {
     "slide_type": "subslide"
    }
   },
   "outputs": [],
   "source": [
    "response = json.loads(response)\n",
    "recipes = response['recipes']"
   ]
  },
  {
   "cell_type": "code",
   "execution_count": 104,
   "metadata": {
    "collapsed": true,
    "slideshow": {
     "slide_type": "subslide"
    }
   },
   "outputs": [],
   "source": [
    "from bs4 import BeautifulSoup\n",
    "import requests"
   ]
  },
  {
   "cell_type": "code",
   "execution_count": 105,
   "metadata": {
    "collapsed": true,
    "slideshow": {
     "slide_type": "subslide"
    }
   },
   "outputs": [],
   "source": [
    "def getReviews(recipes, i=0):\n",
    "\n",
    "    recipe = recipes[i]\n",
    "    url = \"http://food2fork.com/api/get?\"\n",
    "    data = urllib.parse.urlencode({'key' : 'd8b2df92a9cb994f2009b2be8410c1a3', 'rId' : recipe['recipe_id']})\n",
    "    req = urllib.request.Request(url+data, headers={'User-Agent': 'Mozilla/5.0'})\n",
    "    recipe = json.loads(urllib.request.urlopen(req).read())['recipe']\n",
    "    bs =  BeautifulSoup(requests.get(recipe['source_url']).content, 'html.parser')\n",
    "    reviews = []\n",
    "\n",
    "    if (recipe['publisher'] == '101 Cookbooks'): #1\n",
    "        reviews = bs.find_all(attrs={'class': 'card-body'})\n",
    "\n",
    "    elif (recipe['publisher'] == 'BBC Good Food'):\n",
    "        reviews = bs.find_all(attrs={'class': 'field-item even'})\n",
    "\n",
    "    elif (recipe['publisher'] == 'Closet Cooking' \n",
    "           or recipe['publisher'] == 'Eats Well With Others' \n",
    "           or recipe['publisher'] == \"Lisa's Kitchen\"\n",
    "           or recipe['publisher'] == 'A Spicy Perspective'\n",
    "           or recipe['publisher'] == 'Naturally Ella'\n",
    "           or recipe['publisher'] == 'Pastry Affair'):\n",
    "        reviews = bs.find_all(attrs={'class': 'comment-body'})\n",
    "\n",
    "    elif (recipe['publisher'] == 'Food Republic'):\n",
    "        reviews = bs.find_all(attrs={'class': '_5mdd'}) #uses facebook comments plugin\n",
    "\n",
    "    elif (recipe['publisher'] == 'PBS Food'):\n",
    "        reviews = bs.find_all(attrs={'class': 'post-message'})\n",
    "\n",
    "    elif (recipe['publisher'] == 'Simply Recipes'\n",
    "          or recipe['publisher'] == 'Homesick Texan'\n",
    "          or recipe['publisher'] == 'Tasty Kitchen'):\n",
    "        reviews = bs.find_all(attrs={'class': 'comment-text'})\n",
    "\n",
    "    elif (recipe['publisher'] == 'Two Peas and Their Pod'\n",
    "          or recipe['publisher'] == 'Cookie and Kate'\n",
    "          or recipe['publisher'] == \"Elana's Pantry\"\n",
    "          or recipe['publisher'] == 'My Baking Addiction'\n",
    "          or recipe['publisher'] == 'Smitten Kitchen'\n",
    "          or recipe['publisher'] == 'Vintage Mixer'\n",
    "          or recipe['publisher'] == 'Cookin Canuck'\n",
    "          or recipe['publisher'] == 'Healthy Delicious'\n",
    "          or recipe['publisher'] == 'Steamy Kitchen'\n",
    "          or recipe['publisher'] == \"What's Gaby Cooking\"\n",
    "          or recipe['publisher'] == 'Bunky Cooks'\n",
    "          or recipe['publisher'] == 'Serious Eats'):\n",
    "        reviews = bs.find_all(attrs={'class': 'comment-content'})\n",
    "\n",
    "    elif (recipe['publisher'] == 'All Recipes'):\n",
    "        reviews = bs.find_all(attrs={'class' : 'review-detail__link'})\n",
    "        revList = []\n",
    "        for review in reviews:\n",
    "            revList.append(str(review).split(' ')[2].replace('href=\\\"', '').replace('\\\"', ''))\n",
    "        reviews = []\n",
    "        for url in revList:\n",
    "            bs =  BeautifulSoup(requests.get(url).content, 'html.parser')\n",
    "            reviews.append(bs.find(itemprop=\"reviewBody\"))\n",
    "\n",
    "    elif (recipe['publisher'] == 'Big Girls Small Kitchen'\n",
    "          or recipe['publisher'] =='Jamie Oliver'\n",
    "          or recipe['publisher'] == 'The Pioneer Woman'):\n",
    "        reviews = bs.find_all(attrs={'data-role': 'message'})\n",
    "\n",
    "    elif (recipe['publisher'] == 'Framed Cooks'\n",
    "          or recipe['publisher'] == 'Picky Palate'):\n",
    "        reviews = bs.find_all(attrs={'class': 'comment even thread-even depth-1'})\n",
    "\n",
    "    elif (recipe['publisher'] == 'Bon Appetit'):\n",
    "        reviews = bs.find_all(attrs={'class': 'review-body'})\n",
    "\n",
    "    elif (recipe['publisher'] == 'Epicurious'):\n",
    "        reviews = bs.find_all(attrs={'class': 'review-text'})\n",
    "\n",
    "    elif (recipe['publisher'] == 'Cookstr'):\n",
    "        reviews = bs.find_all(attrs={'class': 'commentText'})\n",
    "\n",
    "    elif (recipe['publisher'] == 'Panini Happy'):\n",
    "        #careful, sloppy html\n",
    "        reviews = bs.find_all(attrs={'class': 'format_text'})\n",
    "\n",
    "    elif (recipe['publisher'] == 'Real Simple'):\n",
    "        reviews = bs.find_all(attrs={'class': 'comment_txt'})\n",
    "        \n",
    "    elif (recipe['publisher'] == 'Chow'):\n",
    "        reviews = bs.find_all(itemprop=\"comment\")\n",
    "\n",
    "    elif (recipe['publisher'] == 'Delishhh'):\n",
    "        reviews = bs.find_all(attrs={'class': 'commentmeta'})\n",
    "\n",
    "    elif (recipe['publisher'] == 'Food Network'):\n",
    "        reviews = bs.find_all(attrs={'class': 'gig-comment-body'})    \n",
    "    else:\n",
    "        print(recipe['publisher'])\n",
    "        return getReviews(recipes, i+1)\n",
    "        \n",
    "    return reviews, recipe"
   ]
  },
  {
   "cell_type": "markdown",
   "metadata": {
    "slideshow": {
     "slide_type": "subslide"
    }
   },
   "source": [
    "To keep bad data from being processed, we do a little bit of cleaning"
   ]
  },
  {
   "cell_type": "code",
   "execution_count": 106,
   "metadata": {
    "collapsed": true,
    "slideshow": {
     "slide_type": "subslide"
    }
   },
   "outputs": [],
   "source": [
    "reviews, recipe = getReviews(recipes)    \n",
    "# if type(reviews[0]) is not str:\n",
    "revs = [rv.get_text().replace('\\n', ' ').replace('\\r', '') for rv in reviews]\n",
    "# else:\n",
    "#     revs = [rv.replace('\\n', ' ').replace('\\r', '') for rv in reviews]"
   ]
  },
  {
   "cell_type": "code",
   "execution_count": 107,
   "metadata": {
    "slideshow": {
     "slide_type": "subslide"
    }
   },
   "outputs": [
    {
     "ename": "IndexError",
     "evalue": "list index out of range",
     "output_type": "error",
     "traceback": [
      "\u001b[0;31m---------------------------------------------------------------------------\u001b[0m",
      "\u001b[0;31mIndexError\u001b[0m                                Traceback (most recent call last)",
      "\u001b[0;32m<ipython-input-107-7e9035798d3e>\u001b[0m in \u001b[0;36m<module>\u001b[0;34m()\u001b[0m\n\u001b[0;32m----> 1\u001b[0;31m \u001b[0mprint\u001b[0m\u001b[0;34m(\u001b[0m\u001b[0mreviews\u001b[0m\u001b[0;34m[\u001b[0m\u001b[0;36m0\u001b[0m\u001b[0;34m]\u001b[0m\u001b[0;34m)\u001b[0m\u001b[0;34m\u001b[0m\u001b[0m\n\u001b[0m\u001b[1;32m      2\u001b[0m \u001b[0mprint\u001b[0m\u001b[0;34m(\u001b[0m\u001b[0mrevs\u001b[0m\u001b[0;34m[\u001b[0m\u001b[0;36m0\u001b[0m\u001b[0;34m]\u001b[0m\u001b[0;34m)\u001b[0m\u001b[0;34m\u001b[0m\u001b[0m\n",
      "\u001b[0;31mIndexError\u001b[0m: list index out of range"
     ]
    }
   ],
   "source": [
    "print(reviews[0])\n",
    "print(revs[0])"
   ]
  },
  {
   "cell_type": "markdown",
   "metadata": {
    "slideshow": {
     "slide_type": "slide"
    }
   },
   "source": [
    "## Checking for foods"
   ]
  },
  {
   "cell_type": "code",
   "execution_count": null,
   "metadata": {
    "collapsed": true,
    "slideshow": {
     "slide_type": "subslide"
    }
   },
   "outputs": [],
   "source": [
    "from nltk.corpus import wordnet as wn\n",
    "food = wn.synset('food.n.02')"
   ]
  },
  {
   "cell_type": "code",
   "execution_count": null,
   "metadata": {
    "slideshow": {
     "slide_type": "subslide"
    }
   },
   "outputs": [],
   "source": [
    "recipe['publisher']"
   ]
  },
  {
   "cell_type": "code",
   "execution_count": null,
   "metadata": {
    "slideshow": {
     "slide_type": "subslide"
    }
   },
   "outputs": [],
   "source": [
    "recipe"
   ]
  },
  {
   "cell_type": "code",
   "execution_count": null,
   "metadata": {
    "slideshow": {
     "slide_type": "subslide"
    }
   },
   "outputs": [],
   "source": [
    "import nltk\n",
    "from nltk import word_tokenize, pos_tag\n",
    "text = word_tokenize(reviews[0].get_text())\n",
    "tagged_text = nltk.pos_tag(text)\n",
    "print(tagged_text)"
   ]
  },
  {
   "cell_type": "code",
   "execution_count": null,
   "metadata": {
    "slideshow": {
     "slide_type": "subslide"
    }
   },
   "outputs": [],
   "source": [
    "import sqlite3\n",
    "conn = sqlite3.connect('usda.sql3')\n",
    "excluded_words = ['recipe', 'powder', 'ground', 'sea']\n",
    "out =[]\n",
    "\n",
    "for rv in revs:\n",
    "    text = word_tokenize(reviews[0].get_text())\n",
    "    tagged_text = nltk.pos_tag(text)\n",
    "    for tt in tagged_text:\n",
    "        if tt[1] == 'NN' and tt[0] not in excluded_words:\n",
    "            search = '%' + tt[0] + '%'\n",
    "            c = conn.cursor()\n",
    "            c.execute('SELECT id, short_desc FROM food WHERE short_desc LIKE ?', (search,))\n",
    "            values = c.fetchall()\n",
    "            if len(values) != 0:\n",
    "                for sentence in rv.split('.'):\n",
    "                    if tt[0] in sentence and sentence not in out:\n",
    "                        out.append(sentence)\n",
    "#             for row in values:\n",
    "#                 print(tt, row[0], row[1])\n",
    "for x in out:\n",
    "    print(x)"
   ]
  },
  {
   "cell_type": "markdown",
   "metadata": {
    "collapsed": true,
    "slideshow": {
     "slide_type": "slide"
    }
   },
   "source": [
    "## Performing sentiment analysis"
   ]
  },
  {
   "cell_type": "code",
   "execution_count": null,
   "metadata": {
    "slideshow": {
     "slide_type": "subslide"
    }
   },
   "outputs": [],
   "source": [
    "from nltk.sentiment.vader import SentimentIntensityAnalyzer as sia"
   ]
  },
  {
   "cell_type": "code",
   "execution_count": null,
   "metadata": {
    "collapsed": true,
    "slideshow": {
     "slide_type": "subslide"
    }
   },
   "outputs": [],
   "source": [
    "analyzer = sia()\n",
    "scored = []\n",
    "for sent in out:\n",
    "    res = analyzer.polarity_scores(sent)\n",
    "    tup = (sent, res)\n",
    "    scored.append(tup)"
   ]
  },
  {
   "cell_type": "code",
   "execution_count": null,
   "metadata": {
    "collapsed": true,
    "slideshow": {
     "slide_type": "subslide"
    }
   },
   "outputs": [],
   "source": [
    "def getKey(tup):\n",
    "    return tup[1]['compound']\n",
    "\n",
    "scored = list(reversed(sorted(scored, key=getKey)))"
   ]
  },
  {
   "cell_type": "code",
   "execution_count": null,
   "metadata": {
    "slideshow": {
     "slide_type": "subslide"
    }
   },
   "outputs": [],
   "source": [
    "print(scored)\n",
    "recipe"
   ]
  },
  {
   "cell_type": "code",
   "execution_count": null,
   "metadata": {
    "slideshow": {
     "slide_type": "slide"
    }
   },
   "outputs": [],
   "source": [
    "from IPython.display import Image\n",
    "from IPython.core.display import HTML \n",
    "out = \"<div><h1 style=\\\"text-align:center\\\">{title}</h1><br/><img style=\\\"margin:auto\\\" src=\\\"{img_url}\\\"><ul><h3>Ingredients</h3>{ingredients}</ul><ul><h3>Users enjoyed this recipe more with the following modifications:</h3>{suggestions}</ul><a href=\\\"{src}\\\">View full recipe here</a></div>\"\n",
    "ingredients = \"\".join(\"<li>\"+item+\"</li>\" for item in recipe['ingredients'])\n",
    "suggestions = \"\".join(\"<li>\"+item[0]+\"</li>\" for item in scored)\n",
    "HTML(out.format(title=recipe['title'], img_url=recipe['image_url'], ingredients=ingredients, suggestions=suggestions, src=recipe['source_url']))"
   ]
  }
 ],
 "metadata": {
  "celltoolbar": "Slideshow",
  "kernelspec": {
   "display_name": "Python 3",
   "language": "python",
   "name": "python3"
  },
  "language_info": {
   "codemirror_mode": {
    "name": "ipython",
    "version": 3
   },
   "file_extension": ".py",
   "mimetype": "text/x-python",
   "name": "python",
   "nbconvert_exporter": "python",
   "pygments_lexer": "ipython3",
   "version": "3.6.1"
  }
 },
 "nbformat": 4,
 "nbformat_minor": 2
}
