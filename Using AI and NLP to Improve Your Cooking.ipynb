{
 "cells": [
  {
   "cell_type": "markdown",
   "metadata": {},
   "source": [
    "# Using AI and NLP to Improve Your Cooking\n",
    "\n",
    "Michael Humkey, Conor Marsten"
   ]
  },
  {
   "cell_type": "code",
   "execution_count": 1,
   "metadata": {
    "collapsed": true
   },
   "outputs": [],
   "source": [
    "import urllib\n",
    "import urllib.request"
   ]
  },
  {
   "cell_type": "code",
   "execution_count": 2,
   "metadata": {
    "collapsed": true
   },
   "outputs": [],
   "source": [
    "url = \"http://food2fork.com/api/search?\"\n",
    "args = {'key' : 'd8b2df92a9cb994f2009b2be8410c1a3', 'q' : 'taco', 'sort' : 'r'}\n",
    "data = urllib.parse.urlencode(args)\n",
    "req = urllib.request.Request(url+data, headers={'User-Agent': 'Mozilla/5.0'})\n",
    "response = urllib.request.urlopen(req).read()"
   ]
  },
  {
   "cell_type": "code",
   "execution_count": 3,
   "metadata": {
    "collapsed": true
   },
   "outputs": [],
   "source": [
    "import json"
   ]
  },
  {
   "cell_type": "code",
   "execution_count": 4,
   "metadata": {
    "collapsed": true
   },
   "outputs": [],
   "source": [
    "response = json.loads(response)\n",
    "recipes = response['recipes']"
   ]
  },
  {
   "cell_type": "code",
   "execution_count": 5,
   "metadata": {
    "collapsed": true
   },
   "outputs": [],
   "source": [
    "from bs4 import BeautifulSoup\n",
    "import requests"
   ]
  },
  {
   "cell_type": "code",
   "execution_count": 7,
   "metadata": {
    "collapsed": true
   },
   "outputs": [],
   "source": [
    "def getReviews(recipes, i=0):\n",
    "\n",
    "    recipe = recipes[i]\n",
    "    url = \"http://food2fork.com/api/get?\"\n",
    "    data = urllib.parse.urlencode({'key' : 'd8b2df92a9cb994f2009b2be8410c1a3', 'rId' : recipe['recipe_id']})\n",
    "    req = urllib.request.Request(url+data, headers={'User-Agent': 'Mozilla/5.0'})\n",
    "    recipe = json.loads(urllib.request.urlopen(req).read())['recipe']\n",
    "    bs =  BeautifulSoup(requests.get(recipe['source_url']).content, 'html.parser')\n",
    "    reviews = []\n",
    "\n",
    "    if (recipe['publisher'] == '101 Cookbooks'): #1\n",
    "        reviews = bs.find_all(attrs={'class': 'card-body'})\n",
    "\n",
    "    elif (recipe['publisher'] == 'BBC Good Food'):\n",
    "        reviews = bs.find_all(attrs={'class': 'field-item even'})\n",
    "\n",
    "    elif (recipe['publisher'] == 'Closet Cooking' \n",
    "           or recipe['publisher'] == 'Eats Well With Others' \n",
    "           or recipe['publisher'] == \"Lisa's Kitchen\"\n",
    "           or recipe['publisher'] == 'A Spicy Perspective'\n",
    "           or recipe['publisher'] == 'Naturally Ella'\n",
    "           or recipe['publisher'] == 'Pastry Affair'):\n",
    "        reviews = bs.find_all(attrs={'class': 'comment-body'})\n",
    "\n",
    "    elif (recipe['publisher'] == 'Food Republic'):\n",
    "        reviews = bs.find_all(attrs={'class': '_5mdd'}) #uses facebook comments plugin\n",
    "\n",
    "    elif (recipe['publisher'] == 'PBS Food'):\n",
    "        reviews = bs.find_all(attrs={'class': 'post-message'})\n",
    "\n",
    "    elif (recipe['publisher'] == 'Simply Recipes'\n",
    "          or recipe['publisher'] == 'Homesick Texan'\n",
    "          or recipe['publisher'] == 'Tasty Kitchen'):\n",
    "        reviews = bs.find_all(attrs={'class': 'comment-text'})\n",
    "\n",
    "    elif (recipe['publisher'] == 'Two Peas and Their Pod'\n",
    "          or recipe['publisher'] == 'Cookie and Kate'\n",
    "          or recipe['publisher'] == \"Elana's Pantry\"\n",
    "          or recipe['publisher'] == 'My Baking Addiction'\n",
    "          or recipe['publisher'] == 'Smitten Kitchen'\n",
    "          or recipe['publisher'] == 'Vintage Mixer'\n",
    "          or recipe['publisher'] == 'Cookin Canuck'\n",
    "          or recipe['publisher'] == 'Healthy Delicious'\n",
    "          or recipe['publisher'] == 'Steamy Kitchen'\n",
    "          or recipe['publisher'] == \"What's Gaby Cooking\"\n",
    "          or recipe['publisher'] == 'Bunky Cooks'\n",
    "          or recipe['publisher'] == 'Serious Eats'):\n",
    "        reviews = bs.find_all(attrs={'class': 'comment-content'})\n",
    "\n",
    "    elif (recipe['publisher'] == 'All Recipes'):\n",
    "        reviews = bs.find_all(attrs={'class' : 'review-detail__link'})\n",
    "        revList = []\n",
    "        for review in reviews:\n",
    "            revList.append(str(review).split(' ')[2].replace('href=\\\"', '').replace('\\\"', ''))\n",
    "        reviews = []\n",
    "        for url in revList:\n",
    "            bs =  BeautifulSoup(requests.get(url).content, 'html.parser')\n",
    "            reviews.append(bs.find(itemprop=\"reviewBody\"))\n",
    "\n",
    "    elif (recipe['publisher'] == 'Big Girls Small Kitchen'\n",
    "          or recipe['publisher'] =='Jamie Oliver'\n",
    "          or recipe['publisher'] == 'The Pioneer Woman'):\n",
    "        reviews = bs.find_all(attrs={'data-role': 'message'})\n",
    "\n",
    "    elif (recipe['publisher'] == 'Framed Cooks'\n",
    "          or recipe['publisher'] == 'Picky Palate'):\n",
    "        reviews = bs.find_all(attrs={'class': 'comment even thread-even depth-1'})\n",
    "\n",
    "    elif (recipe['publisher'] == 'Bon Appetit'):\n",
    "        reviews = bs.find_all(attrs={'class': 'review-body'})\n",
    "\n",
    "    elif (recipe['publisher'] == 'Epicurious'):\n",
    "        reviews = bs.find_all(attrs={'class': 'review-text'})\n",
    "\n",
    "    elif (recipe['publisher'] == 'Cookstr'):\n",
    "        reviews = bs.find_all(attrs={'class': 'commentText'})\n",
    "\n",
    "    elif (recipe['publisher'] == 'Panini Happy'):\n",
    "        #careful, sloppy html\n",
    "        reviews = bs.find_all(attrs={'class': 'format_text'})\n",
    "\n",
    "    elif (recipe['publisher'] == 'Real Simple'):\n",
    "        reviews = bs.find_all(attrs={'class': 'comment_txt'})\n",
    "        \n",
    "    elif (recipe['publisher'] == 'Chow'):\n",
    "        reviews = bs.find_all(itemprop=\"comment\")\n",
    "\n",
    "    elif (recipe['publisher'] == 'Delishhh'):\n",
    "        reviews = bs.find_all(attrs={'class': 'commentmeta'})\n",
    "\n",
    "    elif (recipe['publisher'] == 'Food Network'):\n",
    "        reviews = bs.find_all(attrs={'class': 'gig-comment-body'})    \n",
    "    else:\n",
    "        print(recipe['publisher'])\n",
    "        getReviews(recipes, i+1)\n",
    "        \n",
    "    return reviews, recipe"
   ]
  },
  {
   "cell_type": "code",
   "execution_count": 10,
   "metadata": {},
   "outputs": [],
   "source": [
    "reviews, recipe = getReviews(recipes)    \n",
    "# if type(reviews[0]) is not str:\n",
    "revs = [rv.get_text().replace('\\n', ' ').replace('\\r', '') for rv in reviews]\n",
    "# else:\n",
    "#     revs = [rv.replace('\\n', ' ').replace('\\r', '') for rv in reviews]"
   ]
  },
  {
   "cell_type": "code",
   "execution_count": 11,
   "metadata": {},
   "outputs": [
    {
     "name": "stdout",
     "output_type": "stream",
     "text": [
      "<class 'bs4.element.Tag'>\n",
      "<p itemprop=\"reviewBody\">\r\n",
      "                This is my recipe and I am thrilled you all are loving it!  Here is the recipe for Bill Echols Taco Seasoning.  It really makes this recipe.\n",
      "1 tablespoon chili powder \n",
      "1/4 teaspoon garlic powder \n",
      "1/4 teaspoon onion powder \n",
      "1/4 teaspoon crushed red pepper flakes \n",
      "1/4 teaspoon dried oregano \n",
      "1/2 teaspoon paprika \n",
      "1 1/2 teaspoons ground cumin \n",
      "1 teaspoon sea salt \n",
      "1 teaspoon black pepper\r\n",
      "            </p>\n"
     ]
    }
   ],
   "source": [
    "print(type(reviews[0]))\n",
    "print(reviews[0])"
   ]
  },
  {
   "cell_type": "markdown",
   "metadata": {
    "collapsed": true
   },
   "source": [
    "## Performing sentiment analysis"
   ]
  },
  {
   "cell_type": "code",
   "execution_count": 12,
   "metadata": {
    "collapsed": true
   },
   "outputs": [],
   "source": [
    "from nltk.sentiment.vader import SentimentIntensityAnalyzer as sia"
   ]
  },
  {
   "cell_type": "code",
   "execution_count": 13,
   "metadata": {
    "collapsed": true
   },
   "outputs": [],
   "source": [
    "analyzer = sia()\n",
    "scored = []\n",
    "for rev in revs:\n",
    "    res = analyzer.polarity_scores(rev)\n",
    "    tup = (rev, res)\n",
    "    scored.append(tup)"
   ]
  },
  {
   "cell_type": "code",
   "execution_count": 14,
   "metadata": {
    "collapsed": true
   },
   "outputs": [],
   "source": [
    "def getKey(tup):\n",
    "    return tup[1]['compound']\n",
    "\n",
    "scored = list(reversed(sorted(scored, key=getKey)))"
   ]
  },
  {
   "cell_type": "code",
   "execution_count": 15,
   "metadata": {},
   "outputs": [
    {
     "data": {
      "text/plain": [
       "[('                 I wasn\\'t sure about making this as I hate beer and no one in my house drinks it.  I also don\\'t like very spicy foods. However, I took a chance and used Heineken for this recipe as well as the taco seasoning and tomatoes with chilies and the soup was DELICIOUS. I couldn\\'t detect a \"beer\" taste in the soup at all and found it to be a bit on the mild side. Everyone in my family loved it. I made another pot for tailgating - it was the most popular dish - everyone wanted seconds and the recipe. It\\'s easy to put together.  You could easily substitute chicken broth, as many people have, and leave off the cheese and sour cream (or use reduced calorie products)and use baked chips to make it more diet friendly.  I put mine in the crock pot before going to bed.  The chicken was frozen when I put it in the pot.  The next morning, it was so well cooked, I didn\\'t have to take it out and shred it.  All I had to do is \"grab\" each breast a couple of times with tongs and the chicken just fell apart.  Then I gave it a good stir and that\\'s all it took to shred it.             ',\n",
       "  {'compound': 0.9592, 'neg': 0.051, 'neu': 0.816, 'pos': 0.134}),\n",
       " (\"                 This is a great recipe, low in fat and full of fiber.  Yummy!!! It made alot and would be great when you have guests over for dinner.  I did make a couple of changes based on previous reviews.  I left out the onion because my family doesn't like it.  I left out the beer and added 1 can of cream of chicken soup and 1/2 cup of chicken broth (both FF). I used lowfat sourcream and reduced fat mexican cheese and lowfat tortilla chips when serving the soup.             \",\n",
       "  {'compound': 0.8825, 'neg': 0.045, 'neu': 0.82, 'pos': 0.135}),\n",
       " (\"                 Five stars for quick, easy, and tasty.  Plus, I already had everything in the house.  I left out the beer and used one cup homemade chicken broth instead.  I used two chicken breasts and that seemed like a good amount.  I also used fire-roasted frozen corn from Trader Joe's (instead of canned).  Garnished with light sour cream and fresh cilantro, and served with tortilla strips for dipping!  Yum!             \",\n",
       "  {'compound': 0.8802, 'neg': 0.0, 'neu': 0.841, 'pos': 0.159}),\n",
       " ('                 This is my recipe and I am thrilled you all are loving it!  Here is the recipe for Bill Echols Taco Seasoning.  It really makes this recipe. 1 tablespoon chili powder  1/4 teaspoon garlic powder  1/4 teaspoon onion powder  1/4 teaspoon crushed red pepper flakes  1/4 teaspoon dried oregano  1/2 teaspoon paprika  1 1/2 teaspoons ground cumin  1 teaspoon sea salt  1 teaspoon black pepper             ',\n",
       "  {'compound': 0.8016, 'neg': 0.041, 'neu': 0.712, 'pos': 0.247}),\n",
       " ('                 This is my recipe and I am thrilled you all are loving it!  Here is the recipe for Bill Echols Taco Seasoning.  It really makes this recipe. 1 tablespoon chili powder  1/4 teaspoon garlic powder  1/4 teaspoon onion powder  1/4 teaspoon crushed red pepper flakes  1/4 teaspoon dried oregano  1/2 teaspoon paprika  1 1/2 teaspoons ground cumin  1 teaspoon sea salt  1 teaspoon black pepper             ',\n",
       "  {'compound': 0.8016, 'neg': 0.041, 'neu': 0.712, 'pos': 0.247}),\n",
       " (\"                 Yet another highly rated recipe that was just so so for me. I can't quite put my finger on it but there was something off a little. I would have guessed the beer as the culprit but no one, not even the beer-haters claimed to taste the beer at all. With that said, the suggested toppings of sour cream and cheddar cheese did greatly improve the flavour. In addition to these toppings  I added a very small amount of thinly sliced green onion and fresh cilantro.             \",\n",
       "  {'compound': 0.664, 'neg': 0.032, 'neu': 0.886, 'pos': 0.082}),\n",
       " ('                 I brought this to my Texas Holdem Poker nite.  Everyone liked it.  Im on a budget of 20 dollars.  So I only used 4 chicken breast, doubled the recipe, added water no beer or chicken broth ( the chicken makes its own in the water) doubled everything else. You need large crockpot.  Just threw everything in the crockpot.  Took chicken out about 4 or 5  hours later cut it up threw back in.  Also added a little cumin and chilli powder next time I will add a little cilantro.  Served it with nacho chips.  Sour cream and cheese would have been good with it though.  Served a crowd and was under my 20 dollar budget. And even after cutting the chiken back there was still a good amount in it.             ',\n",
       "  {'compound': 0.5859, 'neg': 0.046, 'neu': 0.886, 'pos': 0.068}),\n",
       " ('                 People are really getting on my nerves saying \"Leave out the beer!\" No, do not leave out the beer. USE THE CORRECT KIND OF BEER!!! You need to use a DARK, MEXICAN BEER, not your husband\\'s Natty Light, Miller Lite, Colt45 or whatever it is people have been using. This is an excellent recipe, I urge people to not leave out \"key ingredients\".             ',\n",
       "  {'compound': 0.521, 'neg': 0.072, 'neu': 0.821, 'pos': 0.107}),\n",
       " (\"                 Very good!  I cooked this for 10 hours instead of 5 (since I was at work) & it turned out great.  I followed advice from other reviewers & added 1 tsp garlic powder, 1/2 tsp cummin & 4 T taco seasoning.  Used pinto beans instead of chili beans and added a full 28 oz can of diced tomatoes.  I also added about a teaspoon of sugar at the end - I felt the beer gave it a weird bite or bitter taste.  Next time I'll skip the beer and just add chicken broth in it's place.   Defintely needs a dollop of sour cream and shredded cheddar, but overall a keeper recipe!             \",\n",
       "  {'compound': 0.4732, 'neg': 0.033, 'neu': 0.902, 'pos': 0.065}),\n",
       " ('                 This soup is not bad. It needs more seasoning. I added some chili powder, cumin, flaked red pepper, salt, and garlic powder.             ',\n",
       "  {'compound': 0.431, 'neg': 0.0, 'neu': 0.875, 'pos': 0.125}),\n",
       " (\"                 This is an easy, GREAT recipe ... especially if you use about 1 1/2 pounds chicken tenders in place of the boneless breasts BUT ... FORGET THE BEER!  Next time I'll use a can of chicken broth.  Beer gives an unusual flavor that we did NOT care for.             \",\n",
       "  {'compound': -0.4619, 'neg': 0.132, 'neu': 0.754, 'pos': 0.113})]"
      ]
     },
     "execution_count": 15,
     "metadata": {},
     "output_type": "execute_result"
    }
   ],
   "source": [
    "scored"
   ]
  },
  {
   "cell_type": "markdown",
   "metadata": {},
   "source": [
    "## Checking for foods"
   ]
  },
  {
   "cell_type": "code",
   "execution_count": 16,
   "metadata": {
    "collapsed": true
   },
   "outputs": [],
   "source": [
    "from nltk.corpus import wordnet as wn\n",
    "food = wn.synset('food.n.02')"
   ]
  },
  {
   "cell_type": "code",
   "execution_count": 17,
   "metadata": {
    "collapsed": true
   },
   "outputs": [],
   "source": []
  },
  {
   "cell_type": "code",
   "execution_count": 18,
   "metadata": {},
   "outputs": [
    {
     "data": {
      "text/plain": [
       "'All Recipes'"
      ]
     },
     "execution_count": 18,
     "metadata": {},
     "output_type": "execute_result"
    }
   ],
   "source": [
    "recipe['publisher']"
   ]
  },
  {
   "cell_type": "code",
   "execution_count": 19,
   "metadata": {},
   "outputs": [
    {
     "data": {
      "text/plain": [
       "{'f2f_url': 'http://food2fork.com/view/28924',\n",
       " 'image_url': 'http://static.food2fork.com/9843414ab7.jpg',\n",
       " 'ingredients': ['1 onion, chopped',\n",
       "  '1 (16 ounce) can chili beans',\n",
       "  '1 (15 ounce) can black beans',\n",
       "  '1 (15 ounce) can whole kernel corn, drained',\n",
       "  '1 (8 ounce) can tomato sauce',\n",
       "  '1 (12 fluid ounce) can or bottle beer',\n",
       "  '2 (10 ounce) cans diced tomatoes with green chilies, undrained',\n",
       "  '1 (1.25 ounce) package taco seasoning',\n",
       "  '3 whole skinless, boneless chicken breasts',\n",
       "  'shredded Cheddar cheese (optional)',\n",
       "  'sour cream (optional)',\n",
       "  'crushed tortilla chips (optional)'],\n",
       " 'publisher': 'All Recipes',\n",
       " 'publisher_url': 'http://allrecipes.com',\n",
       " 'recipe_id': '28924',\n",
       " 'social_rank': 99.99999999999945,\n",
       " 'source_url': 'http://allrecipes.com/Recipe/Slow-Cooker-Chicken-Taco-Soup/Detail.aspx',\n",
       " 'title': 'Slow Cooker Chicken Taco Soup'}"
      ]
     },
     "execution_count": 19,
     "metadata": {},
     "output_type": "execute_result"
    }
   ],
   "source": [
    "recipe"
   ]
  },
  {
   "cell_type": "code",
   "execution_count": 23,
   "metadata": {},
   "outputs": [
    {
     "name": "stdout",
     "output_type": "stream",
     "text": [
      "[('This', 'DT'), ('is', 'VBZ'), ('my', 'PRP$'), ('recipe', 'NN'), ('and', 'CC'), ('I', 'PRP'), ('am', 'VBP'), ('thrilled', 'VBN'), ('you', 'PRP'), ('all', 'DT'), ('are', 'VBP'), ('loving', 'VBG'), ('it', 'PRP'), ('!', '.'), ('Here', 'RB'), ('is', 'VBZ'), ('the', 'DT'), ('recipe', 'NN'), ('for', 'IN'), ('Bill', 'NNP'), ('Echols', 'NNP'), ('Taco', 'NNP'), ('Seasoning', 'NNP'), ('.', '.'), ('It', 'PRP'), ('really', 'RB'), ('makes', 'VBZ'), ('this', 'DT'), ('recipe', 'NN'), ('.', '.'), ('1', 'CD'), ('tablespoon', 'NN'), ('chili', 'NN'), ('powder', 'NN'), ('1/4', 'CD'), ('teaspoon', 'NN'), ('garlic', 'JJ'), ('powder', 'NN'), ('1/4', 'CD'), ('teaspoon', 'NN'), ('onion', 'NN'), ('powder', 'NN'), ('1/4', 'CD'), ('teaspoon', 'NN'), ('crushed', 'VBD'), ('red', 'JJ'), ('pepper', 'NN'), ('flakes', 'VBZ'), ('1/4', 'CD'), ('teaspoon', 'NN'), ('dried', 'VBD'), ('oregano', 'JJ'), ('1/2', 'CD'), ('teaspoon', 'NN'), ('paprika', 'VBD'), ('1', 'CD'), ('1/2', 'CD'), ('teaspoons', 'NNS'), ('ground', 'NN'), ('cumin', 'VBZ'), ('1', 'CD'), ('teaspoon', 'NN'), ('sea', 'NN'), ('salt', 'VBD'), ('1', 'CD'), ('teaspoon', 'NN'), ('black', 'JJ'), ('pepper', 'NN')]\n"
     ]
    }
   ],
   "source": [
    "import nltk\n",
    "from nltk import word_tokenize, pos_tag\n",
    "text = word_tokenize(reviews[0].get_text())\n",
    "tagged_text = nltk.pos_tag(text)\n",
    "print(tagged_text)"
   ]
  },
  {
   "cell_type": "code",
   "execution_count": 47,
   "metadata": {},
   "outputs": [
    {
     "ename": "AttributeError",
     "evalue": "'str' object has no attribute 'get_text'",
     "output_type": "error",
     "traceback": [
      "\u001b[1;31m---------------------------------------------------------------------------\u001b[0m",
      "\u001b[1;31mAttributeError\u001b[0m                            Traceback (most recent call last)",
      "\u001b[1;32m<ipython-input-47-48c7bfe9ac2f>\u001b[0m in \u001b[0;36m<module>\u001b[1;34m()\u001b[0m\n\u001b[0;32m     14\u001b[0m             \u001b[0mvalues\u001b[0m \u001b[1;33m=\u001b[0m \u001b[0mc\u001b[0m\u001b[1;33m.\u001b[0m\u001b[0mfetchall\u001b[0m\u001b[1;33m(\u001b[0m\u001b[1;33m)\u001b[0m\u001b[1;33m\u001b[0m\u001b[0m\n\u001b[0;32m     15\u001b[0m             \u001b[1;32mif\u001b[0m \u001b[0mlen\u001b[0m\u001b[1;33m(\u001b[0m\u001b[0mvalues\u001b[0m\u001b[1;33m)\u001b[0m \u001b[1;33m!=\u001b[0m \u001b[1;36m0\u001b[0m\u001b[1;33m:\u001b[0m\u001b[1;33m\u001b[0m\u001b[0m\n\u001b[1;32m---> 16\u001b[1;33m                 \u001b[1;32mfor\u001b[0m \u001b[0msentence\u001b[0m \u001b[1;32min\u001b[0m \u001b[0mrv\u001b[0m\u001b[1;33m.\u001b[0m\u001b[0mget_text\u001b[0m\u001b[1;33m(\u001b[0m\u001b[1;33m)\u001b[0m\u001b[1;33m.\u001b[0m\u001b[0msplit\u001b[0m\u001b[1;33m(\u001b[0m\u001b[1;34m'.'\u001b[0m\u001b[1;33m)\u001b[0m\u001b[1;33m:\u001b[0m\u001b[1;33m\u001b[0m\u001b[0m\n\u001b[0m\u001b[0;32m     17\u001b[0m                     \u001b[1;32mif\u001b[0m \u001b[0mtt\u001b[0m\u001b[1;33m[\u001b[0m\u001b[1;36m0\u001b[0m\u001b[1;33m]\u001b[0m \u001b[1;32min\u001b[0m \u001b[0msentence\u001b[0m\u001b[1;33m:\u001b[0m\u001b[1;33m\u001b[0m\u001b[0m\n\u001b[0;32m     18\u001b[0m                         \u001b[0mout\u001b[0m\u001b[1;33m.\u001b[0m\u001b[0mappend\u001b[0m\u001b[1;33m(\u001b[0m\u001b[0msentence\u001b[0m\u001b[1;33m)\u001b[0m\u001b[1;33m\u001b[0m\u001b[0m\n",
      "\u001b[1;31mAttributeError\u001b[0m: 'str' object has no attribute 'get_text'"
     ]
    }
   ],
   "source": [
    "import sqlite3\n",
    "conn = sqlite3.connect('usda.sql3')\n",
    "excluded_words = ['recipe', 'powder', 'ground', 'sea']\n",
    "out =[]\n",
    "\n",
    "for rv in revs:\n",
    "    text = word_tokenize(reviews[0].get_text())\n",
    "    tagged_text = nltk.pos_tag(text)\n",
    "    for tt in tagged_text:\n",
    "        if tt[1] == 'NN' and tt[0] not in excluded_words:\n",
    "            search = '%' + tt[0] + '%'\n",
    "            c = conn.cursor()\n",
    "            c.execute('SELECT id, short_desc FROM food WHERE short_desc LIKE ?', (search,))\n",
    "            values = c.fetchall()\n",
    "            if len(values) != 0:\n",
    "                for sentence in rv.get_text().split('.'):\n",
    "                    if tt[0] in sentence:\n",
    "                        out.append(sentence)\n",
    "#             for row in values:\n",
    "#                 print(tt, row[0], row[1])\n",
    "for x in out:\n",
    "    print(x)"
   ]
  },
  {
   "cell_type": "code",
   "execution_count": null,
   "metadata": {
    "collapsed": true
   },
   "outputs": [],
   "source": []
  }
 ],
 "metadata": {
  "kernelspec": {
   "display_name": "Python 3",
   "language": "python",
   "name": "python3"
  },
  "language_info": {
   "codemirror_mode": {
    "name": "ipython",
    "version": 3
   },
   "file_extension": ".py",
   "mimetype": "text/x-python",
   "name": "python",
   "nbconvert_exporter": "python",
   "pygments_lexer": "ipython3",
   "version": "3.6.1"
  }
 },
 "nbformat": 4,
 "nbformat_minor": 2
}
