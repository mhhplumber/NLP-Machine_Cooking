{
 "cells": [
  {
   "cell_type": "markdown",
   "metadata": {
    "slideshow": {
     "slide_type": "slide"
    }
   },
   "source": [
    "# Using NLP to Improve Your Cooking\n",
    "\n",
    "Michael Humkey, Conor Marsten"
   ]
  },
  {
   "cell_type": "markdown",
   "metadata": {
    "slideshow": {
     "slide_type": "slide"
    }
   },
   "source": [
    "## Introduction"
   ]
  },
  {
   "cell_type": "markdown",
   "metadata": {
    "slideshow": {
     "slide_type": "subslide"
    }
   },
   "source": [
    "### Why?\n",
    "Surely all cooking can be improved by a little constructive criticism. But how do we determine what is useful?\n",
    "This is something easy for a person to do.\n",
    "\n",
    "![](http://eatslikeaduck.com/wp-content/uploads/2015/09/Homer%E2%80%99s-Breakfast-for-Mr.-Burns-Screenshot-3.png)"
   ]
  },
  {
   "cell_type": "markdown",
   "metadata": {
    "slideshow": {
     "slide_type": "subslide"
    }
   },
   "source": [
    "### How?\n",
    "Given a recipe and list of reviews for the recipe, we will look for criticisms by performing POS  tagging and pulling out nouns to provide suggestions for improving the recipe"
   ]
  },
  {
   "cell_type": "markdown",
   "metadata": {
    "slideshow": {
     "slide_type": "slide"
    }
   },
   "source": [
    "## Background"
   ]
  },
  {
   "cell_type": "markdown",
   "metadata": {
    "slideshow": {
     "slide_type": "subslide"
    }
   },
   "source": [
    "Restaurants use NLP to make improvements based on customer reviews.\n",
    "\n",
    "IBM chef watson will make a recipe when given up to four different food items."
   ]
  },
  {
   "cell_type": "markdown",
   "metadata": {
    "slideshow": {
     "slide_type": "slide"
    }
   },
   "source": [
    "## Building the Dataset\n",
    "![](http://resources3.atgtickets.com/static/699_full.jpg)"
   ]
  },
  {
   "cell_type": "markdown",
   "metadata": {
    "slideshow": {
     "slide_type": "subslide"
    }
   },
   "source": [
    "First we are using the food2fork api to search for a recipe. For simplicity’s sake we are just using the first element returned in the list of query results. This recipe consists of a source URL, a list of ingredients, a title, and a publisher name among a handful of other fields. Then we are using BeautifulSoup to load in the source URL and scrape each review from the web page. \n",
    "\n",
    "![](https://singbookswithemily.files.wordpress.com/2015/03/beautiful-soup-can-w-mock-turtle-coin.jpg)"
   ]
  },
  {
   "cell_type": "code",
   "execution_count": 5,
   "metadata": {
    "collapsed": true,
    "slideshow": {
     "slide_type": "subslide"
    }
   },
   "outputs": [],
   "source": [
    "import urllib\n",
    "import urllib.request"
   ]
  },
  {
   "cell_type": "code",
   "execution_count": 6,
   "metadata": {
    "collapsed": true,
    "slideshow": {
     "slide_type": "subslide"
    }
   },
   "outputs": [],
   "source": [
    "url = \"http://food2fork.com/api/search?\"\n",
    "args = {'key' : 'd8b2df92a9cb994f2009b2be8410c1a3', 'q' : 'chicken', 'sort' : 'r'}\n",
    "data = urllib.parse.urlencode(args)\n",
    "req = urllib.request.Request(url+data, headers={'User-Agent': 'Mozilla/5.0'})\n",
    "response = urllib.request.urlopen(req).read()"
   ]
  },
  {
   "cell_type": "code",
   "execution_count": 7,
   "metadata": {
    "collapsed": true,
    "slideshow": {
     "slide_type": "subslide"
    }
   },
   "outputs": [],
   "source": [
    "import json"
   ]
  },
  {
   "cell_type": "code",
   "execution_count": 8,
   "metadata": {
    "collapsed": true,
    "slideshow": {
     "slide_type": "subslide"
    }
   },
   "outputs": [],
   "source": [
    "response = json.loads(response)\n",
    "recipes = response['recipes']"
   ]
  },
  {
   "cell_type": "code",
   "execution_count": 9,
   "metadata": {
    "collapsed": true,
    "slideshow": {
     "slide_type": "subslide"
    }
   },
   "outputs": [],
   "source": [
    "from bs4 import BeautifulSoup\n",
    "import requests"
   ]
  },
  {
   "cell_type": "code",
   "execution_count": 10,
   "metadata": {
    "collapsed": true,
    "slideshow": {
     "slide_type": "subslide"
    }
   },
   "outputs": [],
   "source": [
    "def getReviews(recipes, i=0):\n",
    "\n",
    "    recipe = recipes[i]\n",
    "    url = \"http://food2fork.com/api/get?\"\n",
    "    data = urllib.parse.urlencode({'key' : 'd8b2df92a9cb994f2009b2be8410c1a3', 'rId' : recipe['recipe_id']})\n",
    "    req = urllib.request.Request(url+data, headers={'User-Agent': 'Mozilla/5.0'})\n",
    "    recipe = json.loads(urllib.request.urlopen(req).read())['recipe']\n",
    "    bs =  BeautifulSoup(requests.get(recipe['source_url']).content, 'html.parser')\n",
    "    reviews = []\n",
    "\n",
    "    if (recipe['publisher'] == '101 Cookbooks'): #1\n",
    "        reviews = bs.find_all(attrs={'class': 'card-body'})\n",
    "\n",
    "    elif (recipe['publisher'] == 'BBC Good Food'):\n",
    "        reviews = bs.find_all(attrs={'class': 'field-item even'})\n",
    "\n",
    "    elif (recipe['publisher'] == 'Closet Cooking' \n",
    "           or recipe['publisher'] == 'Eats Well With Others' \n",
    "           or recipe['publisher'] == \"Lisa's Kitchen\"\n",
    "           or recipe['publisher'] == 'A Spicy Perspective'\n",
    "           or recipe['publisher'] == 'Naturally Ella'\n",
    "           or recipe['publisher'] == 'Pastry Affair'):\n",
    "        reviews = bs.find_all(attrs={'class': 'comment-body'})\n",
    "\n",
    "    elif (recipe['publisher'] == 'Food Republic'):\n",
    "        reviews = bs.find_all(attrs={'class': '_5mdd'}) #uses facebook comments plugin\n",
    "\n",
    "    elif (recipe['publisher'] == 'PBS Food'):\n",
    "        reviews = bs.find_all(attrs={'class': 'post-message'})\n",
    "\n",
    "    elif (recipe['publisher'] == 'Simply Recipes'\n",
    "          or recipe['publisher'] == 'Homesick Texan'\n",
    "          or recipe['publisher'] == 'Tasty Kitchen'):\n",
    "        reviews = bs.find_all(attrs={'class': 'comment-text'})\n",
    "\n",
    "    elif (recipe['publisher'] == 'Two Peas and Their Pod'\n",
    "          or recipe['publisher'] == 'Cookie and Kate'\n",
    "          or recipe['publisher'] == \"Elana's Pantry\"\n",
    "          or recipe['publisher'] == 'My Baking Addiction'\n",
    "          or recipe['publisher'] == 'Smitten Kitchen'\n",
    "          or recipe['publisher'] == 'Vintage Mixer'\n",
    "          or recipe['publisher'] == 'Cookin Canuck'\n",
    "          or recipe['publisher'] == 'Healthy Delicious'\n",
    "          or recipe['publisher'] == 'Steamy Kitchen'\n",
    "          or recipe['publisher'] == \"What's Gaby Cooking\"\n",
    "          or recipe['publisher'] == 'Bunky Cooks'\n",
    "          or recipe['publisher'] == 'Serious Eats'):\n",
    "        reviews = bs.find_all(attrs={'class': 'comment-content'})\n",
    "\n",
    "    elif (recipe['publisher'] == 'All Recipes'):\n",
    "        reviews = bs.find_all(attrs={'class' : 'review-detail__link'})\n",
    "        revList = []\n",
    "        for review in reviews:\n",
    "            revList.append(str(review).split(' ')[2].replace('href=\\\"', '').replace('\\\"', ''))\n",
    "        reviews = []\n",
    "        for url in revList:\n",
    "            bs =  BeautifulSoup(requests.get(url).content, 'html.parser')\n",
    "            reviews.append(bs.find(itemprop=\"reviewBody\"))\n",
    "\n",
    "    elif (recipe['publisher'] == 'Big Girls Small Kitchen'\n",
    "          or recipe['publisher'] =='Jamie Oliver'\n",
    "          or recipe['publisher'] == 'The Pioneer Woman'):\n",
    "        reviews = bs.find_all(attrs={'data-role': 'message'})\n",
    "\n",
    "    elif (recipe['publisher'] == 'Framed Cooks'\n",
    "          or recipe['publisher'] == 'Picky Palate'):\n",
    "        reviews = bs.find_all(attrs={'class': 'comment even thread-even depth-1'})\n",
    "\n",
    "    elif (recipe['publisher'] == 'Bon Appetit'):\n",
    "        reviews = bs.find_all(attrs={'class': 'review-body'})\n",
    "\n",
    "    elif (recipe['publisher'] == 'Epicurious'):\n",
    "        reviews = bs.find_all(attrs={'class': 'review-text'})\n",
    "\n",
    "    elif (recipe['publisher'] == 'Cookstr'):\n",
    "        reviews = bs.find_all(attrs={'class': 'commentText'})\n",
    "\n",
    "    elif (recipe['publisher'] == 'Panini Happy'):\n",
    "        #careful, sloppy html\n",
    "        reviews = bs.find_all(attrs={'class': 'format_text'})\n",
    "\n",
    "    elif (recipe['publisher'] == 'Real Simple'):\n",
    "        reviews = bs.find_all(attrs={'class': 'comment_txt'})\n",
    "        \n",
    "    elif (recipe['publisher'] == 'Chow'):\n",
    "        reviews = bs.find_all(itemprop=\"comment\")\n",
    "\n",
    "    elif (recipe['publisher'] == 'Delishhh'):\n",
    "        reviews = bs.find_all(attrs={'class': 'commentmeta'})\n",
    "\n",
    "    elif (recipe['publisher'] == 'Food Network'):\n",
    "        reviews = bs.find_all(attrs={'class': 'gig-comment-body'})    \n",
    "    else:\n",
    "        print(recipe['publisher'])\n",
    "        return getReviews(recipes, i+1)\n",
    "        \n",
    "    return reviews, recipe"
   ]
  },
  {
   "cell_type": "markdown",
   "metadata": {
    "slideshow": {
     "slide_type": "subslide"
    }
   },
   "source": [
    "To keep bad data from being processed, we do a little bit of cleaning.\n",
    "\n",
    "![](https://i2.wp.com/ghostpoint.com/wp-content/uploads/2016/07/BadData.jpg?fit=467%2C358)"
   ]
  },
  {
   "cell_type": "code",
   "execution_count": 11,
   "metadata": {
    "collapsed": true,
    "slideshow": {
     "slide_type": "subslide"
    }
   },
   "outputs": [],
   "source": [
    "reviews, recipe = getReviews(recipes)    \n",
    "# if type(reviews[0]) is not str:\n",
    "revs = [rv.get_text().replace('\\n', ' ').replace('\\r', '') for rv in reviews]\n",
    "# else:\n",
    "#     revs = [rv.replace('\\n', ' ').replace('\\r', '') for rv in reviews]"
   ]
  },
  {
   "cell_type": "code",
   "execution_count": 12,
   "metadata": {
    "slideshow": {
     "slide_type": "subslide"
    }
   },
   "outputs": [
    {
     "name": "stdout",
     "output_type": "stream",
     "text": [
      "<dd class=\"comment-body\">\n",
      "<p>I HAVE to make this for my husband sometime soon.  We're trying to use up the last jalapenos from our garden this year - this would be perfect!!! Yum</p>\n",
      "</dd>\n",
      " I HAVE to make this for my husband sometime soon.  We're trying to use up the last jalapenos from our garden this year - this would be perfect!!! Yum \n"
     ]
    }
   ],
   "source": [
    "print(reviews[0])\n",
    "print(revs[0])"
   ]
  },
  {
   "cell_type": "markdown",
   "metadata": {
    "slideshow": {
     "slide_type": "slide"
    }
   },
   "source": [
    "Now that we have all of our reviews it's time to process them."
   ]
  },
  {
   "cell_type": "markdown",
   "metadata": {
    "slideshow": {
     "slide_type": "slide"
    }
   },
   "source": [
    "## Checking for foods\n",
    "\n",
    "![](http://citynews.com.au/wp-content/uploads/2017/09/034A9230-e1506583883937-500x282.png)"
   ]
  },
  {
   "cell_type": "code",
   "execution_count": 13,
   "metadata": {
    "slideshow": {
     "slide_type": "subslide"
    }
   },
   "outputs": [
    {
     "data": {
      "text/plain": [
       "'Closet Cooking'"
      ]
     },
     "execution_count": 13,
     "metadata": {},
     "output_type": "execute_result"
    }
   ],
   "source": [
    "recipe['publisher']"
   ]
  },
  {
   "cell_type": "code",
   "execution_count": 14,
   "metadata": {
    "slideshow": {
     "slide_type": "subslide"
    }
   },
   "outputs": [
    {
     "data": {
      "text/plain": [
       "{'f2f_url': 'http://food2fork.com/view/35120',\n",
       " 'image_url': 'http://static.food2fork.com/Bacon2BWrapped2BJalapeno2BPopper2BStuffed2BChicken2B5002B5909939b0e65.jpg',\n",
       " 'ingredients': ['4 small chicken breasts, pounded thin',\n",
       "  'salt and pepper to taste',\n",
       "  '4 jalapenos, diced',\n",
       "  '4 ounces cream cheese, room temperature',\n",
       "  '1 cup cheddar cheese, shredded',\n",
       "  '8 slices bacon\\n'],\n",
       " 'publisher': 'Closet Cooking',\n",
       " 'publisher_url': 'http://closetcooking.com',\n",
       " 'recipe_id': '35120',\n",
       " 'social_rank': 100.0,\n",
       " 'source_url': 'http://www.closetcooking.com/2012/11/bacon-wrapped-jalapeno-popper-stuffed.html',\n",
       " 'title': 'Bacon Wrapped Jalapeno Popper Stuffed Chicken'}"
      ]
     },
     "execution_count": 14,
     "metadata": {},
     "output_type": "execute_result"
    }
   ],
   "source": [
    "recipe"
   ]
  },
  {
   "cell_type": "code",
   "execution_count": 15,
   "metadata": {
    "slideshow": {
     "slide_type": "subslide"
    }
   },
   "outputs": [
    {
     "name": "stdout",
     "output_type": "stream",
     "text": [
      "[('I', 'PRP'), ('HAVE', 'VBP'), ('to', 'TO'), ('make', 'VB'), ('this', 'DT'), ('for', 'IN'), ('my', 'PRP$'), ('husband', 'NN'), ('sometime', 'RB'), ('soon', 'RB'), ('.', '.'), ('We', 'PRP'), (\"'re\", 'VBP'), ('trying', 'VBG'), ('to', 'TO'), ('use', 'VB'), ('up', 'RP'), ('the', 'DT'), ('last', 'JJ'), ('jalapenos', 'NN'), ('from', 'IN'), ('our', 'PRP$'), ('garden', 'NN'), ('this', 'DT'), ('year', 'NN'), ('-', ':'), ('this', 'DT'), ('would', 'MD'), ('be', 'VB'), ('perfect', 'JJ'), ('!', '.'), ('!', '.'), ('!', '.'), ('Yum', 'NN')]\n"
     ]
    }
   ],
   "source": [
    "import nltk\n",
    "from nltk import word_tokenize, pos_tag\n",
    "text = word_tokenize(reviews[0].get_text())\n",
    "tagged_text = nltk.pos_tag(text)\n",
    "print(tagged_text)"
   ]
  },
  {
   "cell_type": "markdown",
   "metadata": {
    "slideshow": {
     "slide_type": "subslide"
    }
   },
   "source": [
    "We will be tagging each review and searching through it for foods by looking for the noun tag."
   ]
  },
  {
   "cell_type": "code",
   "execution_count": 16,
   "metadata": {
    "slideshow": {
     "slide_type": "subslide"
    }
   },
   "outputs": [
    {
     "name": "stdout",
     "output_type": "stream",
     "text": [
      "  We're trying to use up the last jalapenos from our garden this year - this would be perfect!!! Yum \n",
      " Yum! Loved the taste\n",
      " My family is having a party next week, I am going to need to make these! Yum\n",
      "  If it is that you cannot find fresh jalapenos, you could used pickled jalapenos\n",
      " Like I stated, I used a ladle to form: 4 slices bacon, then one x-thinly sliced chicken breast/diced al dente veggies (broccoli, carrot, celery, onion,) slice provolone, the jalapenos, sea salt n' pepper\n",
      " My brother makes stuffed jalapenos wrapped in bacon\n",
      " using fresh jalapenos is great, but they taste much better if you roast them first!  Roasting really brings out the depth of flavor that you need with chicken and cheese\n",
      " I loved the taste of fresh jalapenos and have now officially added this to my product list\n",
      " I'm going to add this to Yummly and try it soon\n"
     ]
    }
   ],
   "source": [
    "import sqlite3\n",
    "conn = sqlite3.connect('usda.sql3')\n",
    "excluded_words = ['recipe', 'powder', 'ground', 'sea']\n",
    "out =[]\n",
    "\n",
    "for rv in revs:\n",
    "    text = word_tokenize(reviews[0].get_text())\n",
    "    tagged_text = nltk.pos_tag(text)\n",
    "    for tt in tagged_text:\n",
    "        if tt[1] == 'NN' and tt[0] not in excluded_words:\n",
    "            search = '%' + tt[0] + '%'\n",
    "            c = conn.cursor()\n",
    "            c.execute('SELECT id, short_desc FROM food WHERE short_desc LIKE ?', (search,))\n",
    "            values = c.fetchall()\n",
    "            if len(values) != 0:\n",
    "                for sentence in rv.split('.'):\n",
    "                    if tt[0] in sentence and sentence not in out:\n",
    "                        out.append(sentence)\n",
    "#             for row in values:\n",
    "#                 print(tt, row[0], row[1])\n",
    "for x in out:\n",
    "    print(x)"
   ]
  },
  {
   "cell_type": "markdown",
   "metadata": {
    "slideshow": {
     "slide_type": "subslide"
    }
   },
   "source": [
    "Now that the nouns have been searched for in the database to verify they are a food item, the sentences containing them are added to a list."
   ]
  },
  {
   "cell_type": "markdown",
   "metadata": {
    "collapsed": true,
    "slideshow": {
     "slide_type": "slide"
    }
   },
   "source": [
    "## Performing sentiment analysis\n",
    "\n",
    "![](http://sherimcnally.com/wp-content/uploads/2016/02/Depositphotos_39533227_m-2015-630x315.jpg)"
   ]
  },
  {
   "cell_type": "code",
   "execution_count": 17,
   "metadata": {
    "collapsed": true,
    "slideshow": {
     "slide_type": "subslide"
    }
   },
   "outputs": [],
   "source": [
    "from nltk.sentiment.vader import SentimentIntensityAnalyzer as sia"
   ]
  },
  {
   "cell_type": "code",
   "execution_count": 18,
   "metadata": {
    "slideshow": {
     "slide_type": "subslide"
    }
   },
   "outputs": [],
   "source": [
    "analyzer = sia()\n",
    "scored = []\n",
    "for sent in out:\n",
    "    res = analyzer.polarity_scores(sent)\n",
    "    tup = (sent, res)\n",
    "    scored.append(tup)"
   ]
  },
  {
   "cell_type": "code",
   "execution_count": 19,
   "metadata": {
    "slideshow": {
     "slide_type": "subslide"
    }
   },
   "outputs": [],
   "source": [
    "def getKey(tup):\n",
    "    return tup[1]['compound']\n",
    "\n",
    "scored = list(reversed(sorted(scored, key=getKey)))"
   ]
  },
  {
   "cell_type": "markdown",
   "metadata": {
    "slideshow": {
     "slide_type": "subslide"
    }
   },
   "source": [
    "We now have performed sentiment analysis on every sentence that we stored."
   ]
  },
  {
   "cell_type": "code",
   "execution_count": 20,
   "metadata": {
    "slideshow": {
     "slide_type": "subslide"
    }
   },
   "outputs": [
    {
     "name": "stdout",
     "output_type": "stream",
     "text": [
      "{'neg': 0.0, 'neu': 0.764, 'pos': 0.236, 'compound': 0.8096}\n",
      " using fresh jalapenos is great, but they taste much better if you roast them first!  Roasting really brings out the depth of flavor that you need with chicken and cheese\n",
      "\n",
      "{'neg': 0.0, 'neu': 0.693, 'pos': 0.307, 'compound': 0.7351}\n",
      " I loved the taste of fresh jalapenos and have now officially added this to my product list\n",
      "\n",
      "{'neg': 0.0, 'neu': 0.788, 'pos': 0.212, 'compound': 0.6784}\n",
      "  We're trying to use up the last jalapenos from our garden this year - this would be perfect!!! Yum \n",
      "\n",
      "{'neg': 0.0, 'neu': 0.417, 'pos': 0.583, 'compound': 0.636}\n",
      " Yum! Loved the taste\n",
      "\n",
      "{'neg': 0.0, 'neu': 0.824, 'pos': 0.176, 'compound': 0.4574}\n",
      " My family is having a party next week, I am going to need to make these! Yum\n",
      "\n",
      "{'neg': 0.0, 'neu': 0.918, 'pos': 0.082, 'compound': 0.3612}\n",
      " Like I stated, I used a ladle to form: 4 slices bacon, then one x-thinly sliced chicken breast/diced al dente veggies (broccoli, carrot, celery, onion,) slice provolone, the jalapenos, sea salt n' pepper\n",
      "\n",
      "{'neg': 0.0, 'neu': 1.0, 'pos': 0.0, 'compound': 0.0}\n",
      " I'm going to add this to Yummly and try it soon\n",
      "\n",
      "{'neg': 0.0, 'neu': 1.0, 'pos': 0.0, 'compound': 0.0}\n",
      " My brother makes stuffed jalapenos wrapped in bacon\n",
      "\n",
      "{'neg': 0.131, 'neu': 0.869, 'pos': 0.0, 'compound': -0.2411}\n",
      "  If it is that you cannot find fresh jalapenos, you could used pickled jalapenos\n",
      "\n"
     ]
    }
   ],
   "source": [
    "for sent in scored:\n",
    "    print(sent[1])\n",
    "    print(sent[0])\n",
    "    print()"
   ]
  },
  {
   "cell_type": "code",
   "execution_count": 21,
   "metadata": {
    "slideshow": {
     "slide_type": "slide"
    }
   },
   "outputs": [
    {
     "data": {
      "text/html": [
       "<div><h1 style=\"text-align:center\">Bacon Wrapped Jalapeno Popper Stuffed Chicken</h1><br/><img style=\"margin:auto\" src=\"http://static.food2fork.com/Bacon2BWrapped2BJalapeno2BPopper2BStuffed2BChicken2B5002B5909939b0e65.jpg\"><ul><h3>Ingredients</h3><li>4 small chicken breasts, pounded thin</li><li>salt and pepper to taste</li><li>4 jalapenos, diced</li><li>4 ounces cream cheese, room temperature</li><li>1 cup cheddar cheese, shredded</li><li>8 slices bacon\n",
       "</li></ul><ul><h3>Users enjoyed this recipe more with the following modifications:</h3><li> using fresh jalapenos is great, but they taste much better if you roast them first!  Roasting really brings out the depth of flavor that you need with chicken and cheese</li><li> I loved the taste of fresh jalapenos and have now officially added this to my product list</li><li>  We're trying to use up the last jalapenos from our garden this year - this would be perfect!!! Yum </li><li> Yum! Loved the taste</li><li> My family is having a party next week, I am going to need to make these! Yum</li><li> Like I stated, I used a ladle to form: 4 slices bacon, then one x-thinly sliced chicken breast/diced al dente veggies (broccoli, carrot, celery, onion,) slice provolone, the jalapenos, sea salt n' pepper</li><li> I'm going to add this to Yummly and try it soon</li><li> My brother makes stuffed jalapenos wrapped in bacon</li><li>  If it is that you cannot find fresh jalapenos, you could used pickled jalapenos</li></ul><a href=\"http://www.closetcooking.com/2012/11/bacon-wrapped-jalapeno-popper-stuffed.html\">View full recipe here</a></div>"
      ],
      "text/plain": [
       "<IPython.core.display.HTML object>"
      ]
     },
     "execution_count": 21,
     "metadata": {},
     "output_type": "execute_result"
    }
   ],
   "source": [
    "from IPython.display import Image\n",
    "from IPython.core.display import HTML \n",
    "out = \"<div><h1 style=\\\"text-align:center\\\">{title}</h1><br/><img style=\\\"margin:auto\\\" src=\\\"{img_url}\\\"><ul><h3>Ingredients</h3>{ingredients}</ul><ul><h3>Users enjoyed this recipe more with the following modifications:</h3>{suggestions}</ul><a href=\\\"{src}\\\">View full recipe here</a></div>\"\n",
    "ingredients = \"\".join(\"<li>\"+item+\"</li>\" for item in recipe['ingredients'])\n",
    "suggestions = \"\".join(\"<li>\"+item[0]+\"</li>\" for item in scored)\n",
    "HTML(out.format(title=recipe['title'], img_url=recipe['image_url'], ingredients=ingredients, suggestions=suggestions, src=recipe['source_url']))"
   ]
  },
  {
   "cell_type": "markdown",
   "metadata": {
    "slideshow": {
     "slide_type": "slide"
    }
   },
   "source": [
    "## Next Steps \n",
    "\n",
    "![](https://i.cbc.ca/1.3237852.1442878202!/fileImage/httpImage/image.jpg_gen/derivatives/16x9_620/pizza-rat.jpg)"
   ]
  },
  {
   "cell_type": "markdown",
   "metadata": {
    "slideshow": {
     "slide_type": "subslide"
    }
   },
   "source": [
    "Some possible changes going forward is that we can modify the tagger so that all the food included in our database is viewed as a noun making it easier to find those modifications. We'd also like to be able to alter the recipe's steps.\n",
    "\n",
    "Using the default POS tagger from nltk limits how much we can do with the data we retrieve. A modification would need to be done so that it would recognize all food as nouns and then look for modifcations to those for more accurate suggestions. \n",
    "\n",
    "Multi word ingredients are also not checked for currently such as chili powder vs. chili."
   ]
  }
 ],
 "metadata": {
  "celltoolbar": "Slideshow",
  "kernelspec": {
   "display_name": "Python 3",
   "language": "python",
   "name": "python3"
  },
  "language_info": {
   "codemirror_mode": {
    "name": "ipython",
    "version": 3
   },
   "file_extension": ".py",
   "mimetype": "text/x-python",
   "name": "python",
   "nbconvert_exporter": "python",
   "pygments_lexer": "ipython3",
   "version": "3.6.1"
  }
 },
 "nbformat": 4,
 "nbformat_minor": 2
}
